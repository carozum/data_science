{
 "cells": [
  {
   "cell_type": "markdown",
   "metadata": {},
   "source": [
    "# ====== GOODREADS ANALYSIS ======"
   ]
  },
  {
   "cell_type": "code",
   "execution_count": 214,
   "metadata": {},
   "outputs": [],
   "source": [
    "import numpy as np\n",
    "import pandas as pd\n",
    "import matplotlib.pyplot as plt\n",
    "import os"
   ]
  },
  {
   "cell_type": "code",
   "execution_count": 215,
   "metadata": {},
   "outputs": [
    {
     "data": {
      "text/html": [
       "<div>\n",
       "<style scoped>\n",
       "    .dataframe tbody tr th:only-of-type {\n",
       "        vertical-align: middle;\n",
       "    }\n",
       "\n",
       "    .dataframe tbody tr th {\n",
       "        vertical-align: top;\n",
       "    }\n",
       "\n",
       "    .dataframe thead th {\n",
       "        text-align: right;\n",
       "    }\n",
       "</style>\n",
       "<table border=\"1\" class=\"dataframe\">\n",
       "  <thead>\n",
       "    <tr style=\"text-align: right;\">\n",
       "      <th></th>\n",
       "      <th>bookID</th>\n",
       "      <th>title</th>\n",
       "      <th>authors</th>\n",
       "      <th>average_rating</th>\n",
       "      <th>isbn</th>\n",
       "      <th>isbn13</th>\n",
       "      <th>language_code</th>\n",
       "      <th>num_pages</th>\n",
       "      <th>ratings_count</th>\n",
       "      <th>text_reviews_count</th>\n",
       "      <th>publication_date</th>\n",
       "      <th>publisher</th>\n",
       "    </tr>\n",
       "  </thead>\n",
       "  <tbody>\n",
       "    <tr>\n",
       "      <th>0</th>\n",
       "      <td>1</td>\n",
       "      <td>The Ultimate Hitchhiker's Guide: Five Complete...</td>\n",
       "      <td>Douglas Adams</td>\n",
       "      <td>4.38</td>\n",
       "      <td>517226952</td>\n",
       "      <td>9780517226957</td>\n",
       "      <td>eng</td>\n",
       "      <td>815</td>\n",
       "      <td>3628</td>\n",
       "      <td>254</td>\n",
       "      <td>11/01/2005</td>\n",
       "      <td>Gramercy Books</td>\n",
       "    </tr>\n",
       "    <tr>\n",
       "      <th>1</th>\n",
       "      <td>2</td>\n",
       "      <td>The Ultimate Hitchhiker's Guide to the Galaxy ...</td>\n",
       "      <td>Douglas Adams</td>\n",
       "      <td>4.38</td>\n",
       "      <td>345453743</td>\n",
       "      <td>9780345453747</td>\n",
       "      <td>eng</td>\n",
       "      <td>815</td>\n",
       "      <td>249558</td>\n",
       "      <td>4080</td>\n",
       "      <td>04/30/2002</td>\n",
       "      <td>Del Rey Books</td>\n",
       "    </tr>\n",
       "  </tbody>\n",
       "</table>\n",
       "</div>"
      ],
      "text/plain": [
       "   bookID                                              title        authors  \\\n",
       "0       1  The Ultimate Hitchhiker's Guide: Five Complete...  Douglas Adams   \n",
       "1       2  The Ultimate Hitchhiker's Guide to the Galaxy ...  Douglas Adams   \n",
       "\n",
       "   average_rating       isbn         isbn13 language_code  num_pages  \\\n",
       "0            4.38  517226952  9780517226957           eng        815   \n",
       "1            4.38  345453743  9780345453747           eng        815   \n",
       "\n",
       "   ratings_count  text_reviews_count publication_date       publisher  \n",
       "0           3628                 254       11/01/2005  Gramercy Books  \n",
       "1         249558                4080       04/30/2002   Del Rey Books  "
      ]
     },
     "execution_count": 215,
     "metadata": {},
     "output_type": "execute_result"
    }
   ],
   "source": [
    "df = pd.read_csv('books.csv')\n",
    "df.head(2)"
   ]
  },
  {
   "cell_type": "code",
   "execution_count": 216,
   "metadata": {},
   "outputs": [],
   "source": [
    "df['publication_date'] = pd.to_datetime(df['publication_date'])"
   ]
  },
  {
   "cell_type": "code",
   "execution_count": 217,
   "metadata": {},
   "outputs": [
    {
     "data": {
      "text/plain": [
       "bookID                         int64\n",
       "title                         object\n",
       "authors                       object\n",
       "average_rating               float64\n",
       "isbn                          object\n",
       "isbn13                         int64\n",
       "language_code                 object\n",
       "num_pages                      int64\n",
       "ratings_count                  int64\n",
       "text_reviews_count             int64\n",
       "publication_date      datetime64[ns]\n",
       "publisher                     object\n",
       "dtype: object"
      ]
     },
     "execution_count": 217,
     "metadata": {},
     "output_type": "execute_result"
    }
   ],
   "source": [
    "df.dtypes"
   ]
  },
  {
   "cell_type": "code",
   "execution_count": 218,
   "metadata": {},
   "outputs": [
    {
     "data": {
      "text/plain": [
       "(11127, 12)"
      ]
     },
     "execution_count": 218,
     "metadata": {},
     "output_type": "execute_result"
    }
   ],
   "source": [
    "df.shape"
   ]
  },
  {
   "cell_type": "code",
   "execution_count": 219,
   "metadata": {},
   "outputs": [
    {
     "data": {
      "text/plain": [
       "array(['eng', 'en-US', 'fre', 'spa', 'en-GB', 'mul', 'grc', 'enm',\n",
       "       'en-CA', 'ger', 'jpn', 'ara', 'nl', 'zho', 'lat', 'por', 'srp',\n",
       "       'ita', 'rus', 'msa', 'glg', 'wel', 'swe', 'nor', 'tur', 'gla',\n",
       "       'ale'], dtype=object)"
      ]
     },
     "execution_count": 219,
     "metadata": {},
     "output_type": "execute_result"
    }
   ],
   "source": [
    "df['language_code'].unique()"
   ]
  },
  {
   "cell_type": "code",
   "execution_count": 220,
   "metadata": {},
   "outputs": [
    {
     "data": {
      "text/plain": [
       "bookID                144\n",
       "title                 144\n",
       "authors               144\n",
       "average_rating        144\n",
       "isbn                  144\n",
       "isbn13                144\n",
       "language_code         144\n",
       "num_pages             144\n",
       "ratings_count         144\n",
       "text_reviews_count    144\n",
       "publication_date      144\n",
       "publisher             144\n",
       "dtype: int64"
      ]
     },
     "execution_count": 220,
     "metadata": {},
     "output_type": "execute_result"
    }
   ],
   "source": [
    "df[df['language_code']== 'fre'].count()"
   ]
  },
  {
   "cell_type": "markdown",
   "metadata": {},
   "source": [
    "# ------------- POPULARITY --------------"
   ]
  },
  {
   "cell_type": "markdown",
   "metadata": {},
   "source": [
    "There are two data points relating to book popularity in this database: average ratings and ratings count. I am determining popularity as a book having a large number of ratings (> 1000) and a high average rating (>4.5/4.0)."
   ]
  },
  {
   "cell_type": "markdown",
   "metadata": {},
   "source": [
    "## Popularity: What is the most popular book?"
   ]
  },
  {
   "cell_type": "code",
   "execution_count": 221,
   "metadata": {},
   "outputs": [
    {
     "data": {
      "text/plain": [
       "5.0"
      ]
     },
     "execution_count": 221,
     "metadata": {},
     "output_type": "execute_result"
    }
   ],
   "source": [
    "df['average_rating'].max()"
   ]
  },
  {
   "cell_type": "code",
   "execution_count": 222,
   "metadata": {},
   "outputs": [
    {
     "data": {
      "text/plain": [
       "0.0"
      ]
     },
     "execution_count": 222,
     "metadata": {},
     "output_type": "execute_result"
    }
   ],
   "source": [
    "df['average_rating'].min()"
   ]
  },
  {
   "cell_type": "code",
   "execution_count": 223,
   "metadata": {},
   "outputs": [
    {
     "data": {
      "text/html": [
       "<div>\n",
       "<style scoped>\n",
       "    .dataframe tbody tr th:only-of-type {\n",
       "        vertical-align: middle;\n",
       "    }\n",
       "\n",
       "    .dataframe tbody tr th {\n",
       "        vertical-align: top;\n",
       "    }\n",
       "\n",
       "    .dataframe thead th {\n",
       "        text-align: right;\n",
       "    }\n",
       "</style>\n",
       "<table border=\"1\" class=\"dataframe\">\n",
       "  <thead>\n",
       "    <tr style=\"text-align: right;\">\n",
       "      <th></th>\n",
       "      <th>bookID</th>\n",
       "      <th>title</th>\n",
       "      <th>authors</th>\n",
       "      <th>average_rating</th>\n",
       "      <th>isbn</th>\n",
       "      <th>isbn13</th>\n",
       "      <th>language_code</th>\n",
       "      <th>num_pages</th>\n",
       "      <th>ratings_count</th>\n",
       "      <th>text_reviews_count</th>\n",
       "      <th>publication_date</th>\n",
       "      <th>publisher</th>\n",
       "    </tr>\n",
       "  </thead>\n",
       "  <tbody>\n",
       "    <tr>\n",
       "      <th>6590</th>\n",
       "      <td>24812</td>\n",
       "      <td>The Complete Calvin and Hobbes</td>\n",
       "      <td>Bill Watterson</td>\n",
       "      <td>4.82</td>\n",
       "      <td>740748475</td>\n",
       "      <td>9780740748479</td>\n",
       "      <td>eng</td>\n",
       "      <td>1456</td>\n",
       "      <td>32213</td>\n",
       "      <td>930</td>\n",
       "      <td>2005-09-06</td>\n",
       "      <td>Andrews McMeel Publishing</td>\n",
       "    </tr>\n",
       "  </tbody>\n",
       "</table>\n",
       "</div>"
      ],
      "text/plain": [
       "      bookID                           title         authors  average_rating  \\\n",
       "6590   24812  The Complete Calvin and Hobbes  Bill Watterson            4.82   \n",
       "\n",
       "           isbn         isbn13 language_code  num_pages  ratings_count  \\\n",
       "6590  740748475  9780740748479           eng       1456          32213   \n",
       "\n",
       "      text_reviews_count publication_date                  publisher  \n",
       "6590                 930       2005-09-06  Andrews McMeel Publishing  "
      ]
     },
     "execution_count": 223,
     "metadata": {},
     "output_type": "execute_result"
    }
   ],
   "source": [
    "def most_pop(df, threshold):\n",
    "    most_pop_filter = (df[\"average_rating\"]>threshold) & (df[\"ratings_count\"] > 1000)\n",
    "    popular = df.loc[most_pop_filter]\n",
    "    return popular.sort_values(by=[\"average_rating\"], ascending=False)[:1]\n",
    "\n",
    "most_pop(df, 4.5)"
   ]
  },
  {
   "cell_type": "markdown",
   "metadata": {},
   "source": [
    "## Popularity: Most popular book in the 1960's\n",
    "Following the popularity decisions above, I used Timestamp() to grab the books published between Jan 1st, 1960 and Dec 31st, 1969. After running the filter to show books with a rating above 4.5 returned nothing, I lowered the threshold to 4.0."
   ]
  },
  {
   "cell_type": "code",
   "execution_count": 224,
   "metadata": {},
   "outputs": [
    {
     "data": {
      "text/html": [
       "<div>\n",
       "<style scoped>\n",
       "    .dataframe tbody tr th:only-of-type {\n",
       "        vertical-align: middle;\n",
       "    }\n",
       "\n",
       "    .dataframe tbody tr th {\n",
       "        vertical-align: top;\n",
       "    }\n",
       "\n",
       "    .dataframe thead th {\n",
       "        text-align: right;\n",
       "    }\n",
       "</style>\n",
       "<table border=\"1\" class=\"dataframe\">\n",
       "  <thead>\n",
       "    <tr style=\"text-align: right;\">\n",
       "      <th></th>\n",
       "      <th>bookID</th>\n",
       "      <th>title</th>\n",
       "      <th>authors</th>\n",
       "      <th>average_rating</th>\n",
       "      <th>isbn</th>\n",
       "      <th>isbn13</th>\n",
       "      <th>language_code</th>\n",
       "      <th>num_pages</th>\n",
       "      <th>ratings_count</th>\n",
       "      <th>text_reviews_count</th>\n",
       "      <th>publication_date</th>\n",
       "      <th>publisher</th>\n",
       "    </tr>\n",
       "  </thead>\n",
       "  <tbody>\n",
       "    <tr>\n",
       "      <th>3038</th>\n",
       "      <td>11225</td>\n",
       "      <td>One Flew Over the Cuckoo's Nest</td>\n",
       "      <td>Ken Kesey</td>\n",
       "      <td>4.2</td>\n",
       "      <td>451137094</td>\n",
       "      <td>9780451137098</td>\n",
       "      <td>eng</td>\n",
       "      <td>272</td>\n",
       "      <td>1120</td>\n",
       "      <td>104</td>\n",
       "      <td>1963-02-01</td>\n",
       "      <td>Signet</td>\n",
       "    </tr>\n",
       "  </tbody>\n",
       "</table>\n",
       "</div>"
      ],
      "text/plain": [
       "      bookID                            title    authors  average_rating  \\\n",
       "3038   11225  One Flew Over the Cuckoo's Nest  Ken Kesey             4.2   \n",
       "\n",
       "           isbn         isbn13 language_code  num_pages  ratings_count  \\\n",
       "3038  451137094  9780451137098           eng        272           1120   \n",
       "\n",
       "      text_reviews_count publication_date publisher  \n",
       "3038                 104       1963-02-01    Signet  "
      ]
     },
     "execution_count": 224,
     "metadata": {},
     "output_type": "execute_result"
    }
   ],
   "source": [
    "sixties = df[ (df['publication_date'] > pd.Timestamp(1960,1,1)) \n",
    "             & (df['publication_date']< pd.Timestamp(1969,12,31))]\n",
    "\n",
    "most_pop(sixties, threshold=4.0)\n"
   ]
  },
  {
   "cell_type": "markdown",
   "metadata": {},
   "source": [
    "## Popularity: What is the least popular book of the 90's ?\n",
    "First, I found all of the books published between Jan 1st, 1990 and Dec 31st, 1999. Then I found all of the books in the 90s with at least 1000 ratings to remove books with zero ratings and therefore an average rating of zero. Then I sorted those books by average rating, descending to find the lowest-rated book in the 90s."
   ]
  },
  {
   "cell_type": "code",
   "execution_count": 225,
   "metadata": {
    "scrolled": true
   },
   "outputs": [
    {
     "data": {
      "text/html": [
       "<div>\n",
       "<style scoped>\n",
       "    .dataframe tbody tr th:only-of-type {\n",
       "        vertical-align: middle;\n",
       "    }\n",
       "\n",
       "    .dataframe tbody tr th {\n",
       "        vertical-align: top;\n",
       "    }\n",
       "\n",
       "    .dataframe thead th {\n",
       "        text-align: right;\n",
       "    }\n",
       "</style>\n",
       "<table border=\"1\" class=\"dataframe\">\n",
       "  <thead>\n",
       "    <tr style=\"text-align: right;\">\n",
       "      <th></th>\n",
       "      <th>bookID</th>\n",
       "      <th>title</th>\n",
       "      <th>authors</th>\n",
       "      <th>average_rating</th>\n",
       "      <th>isbn</th>\n",
       "      <th>isbn13</th>\n",
       "      <th>language_code</th>\n",
       "      <th>num_pages</th>\n",
       "      <th>ratings_count</th>\n",
       "      <th>text_reviews_count</th>\n",
       "      <th>publication_date</th>\n",
       "      <th>publisher</th>\n",
       "    </tr>\n",
       "  </thead>\n",
       "  <tbody>\n",
       "    <tr>\n",
       "      <th>4</th>\n",
       "      <td>8</td>\n",
       "      <td>The Ultimate Hitchhiker's Guide (Hitchhiker's ...</td>\n",
       "      <td>Douglas Adams</td>\n",
       "      <td>4.38</td>\n",
       "      <td>517149257</td>\n",
       "      <td>9780517149256</td>\n",
       "      <td>eng</td>\n",
       "      <td>815</td>\n",
       "      <td>2877</td>\n",
       "      <td>195</td>\n",
       "      <td>1996-01-17</td>\n",
       "      <td>Wings Books</td>\n",
       "    </tr>\n",
       "    <tr>\n",
       "      <th>17</th>\n",
       "      <td>26</td>\n",
       "      <td>The Lost Continent: Travels in Small Town America</td>\n",
       "      <td>Bill Bryson</td>\n",
       "      <td>3.83</td>\n",
       "      <td>60920084</td>\n",
       "      <td>9780060920081</td>\n",
       "      <td>eng</td>\n",
       "      <td>299</td>\n",
       "      <td>45712</td>\n",
       "      <td>2257</td>\n",
       "      <td>1990-08-28</td>\n",
       "      <td>William Morrow Paperbacks</td>\n",
       "    </tr>\n",
       "    <tr>\n",
       "      <th>18</th>\n",
       "      <td>27</td>\n",
       "      <td>Neither Here nor There: Travels in Europe</td>\n",
       "      <td>Bill Bryson</td>\n",
       "      <td>3.86</td>\n",
       "      <td>380713802</td>\n",
       "      <td>9780380713806</td>\n",
       "      <td>eng</td>\n",
       "      <td>254</td>\n",
       "      <td>48701</td>\n",
       "      <td>2238</td>\n",
       "      <td>1993-03-28</td>\n",
       "      <td>William Morrow Paperbacks</td>\n",
       "    </tr>\n",
       "    <tr>\n",
       "      <th>19</th>\n",
       "      <td>28</td>\n",
       "      <td>Notes from a Small Island</td>\n",
       "      <td>Bill Bryson</td>\n",
       "      <td>3.91</td>\n",
       "      <td>380727501</td>\n",
       "      <td>9780380727506</td>\n",
       "      <td>eng</td>\n",
       "      <td>324</td>\n",
       "      <td>80609</td>\n",
       "      <td>3301</td>\n",
       "      <td>1997-05-28</td>\n",
       "      <td>William Morrow Paperbacks</td>\n",
       "    </tr>\n",
       "    <tr>\n",
       "      <th>20</th>\n",
       "      <td>29</td>\n",
       "      <td>The Mother Tongue: English and How It Got That...</td>\n",
       "      <td>Bill Bryson</td>\n",
       "      <td>3.93</td>\n",
       "      <td>380715430</td>\n",
       "      <td>9780380715435</td>\n",
       "      <td>eng</td>\n",
       "      <td>270</td>\n",
       "      <td>28489</td>\n",
       "      <td>2085</td>\n",
       "      <td>1991-09-28</td>\n",
       "      <td>William Morrow Paperbacks</td>\n",
       "    </tr>\n",
       "    <tr>\n",
       "      <th>...</th>\n",
       "      <td>...</td>\n",
       "      <td>...</td>\n",
       "      <td>...</td>\n",
       "      <td>...</td>\n",
       "      <td>...</td>\n",
       "      <td>...</td>\n",
       "      <td>...</td>\n",
       "      <td>...</td>\n",
       "      <td>...</td>\n",
       "      <td>...</td>\n",
       "      <td>...</td>\n",
       "      <td>...</td>\n",
       "    </tr>\n",
       "    <tr>\n",
       "      <th>11103</th>\n",
       "      <td>45557</td>\n",
       "      <td>Co. Aytch: A Confederate Memoir of the Civil War</td>\n",
       "      <td>Sam R. Watkins</td>\n",
       "      <td>4.13</td>\n",
       "      <td>684833247</td>\n",
       "      <td>9780684833248</td>\n",
       "      <td>eng</td>\n",
       "      <td>240</td>\n",
       "      <td>23</td>\n",
       "      <td>2</td>\n",
       "      <td>1997-08-12</td>\n",
       "      <td>Touchstone Books</td>\n",
       "    </tr>\n",
       "    <tr>\n",
       "      <th>11104</th>\n",
       "      <td>45564</td>\n",
       "      <td>Jonny Reb &amp; Billy Yank</td>\n",
       "      <td>Alexander Hunter</td>\n",
       "      <td>4.11</td>\n",
       "      <td>1568520808</td>\n",
       "      <td>9781568520803</td>\n",
       "      <td>eng</td>\n",
       "      <td>635</td>\n",
       "      <td>14</td>\n",
       "      <td>2</td>\n",
       "      <td>1998-05-31</td>\n",
       "      <td>Not Avail</td>\n",
       "    </tr>\n",
       "    <tr>\n",
       "      <th>11107</th>\n",
       "      <td>45572</td>\n",
       "      <td>Fantastic Mr. Fox (Cover to Cover)</td>\n",
       "      <td>Roald Dahl</td>\n",
       "      <td>4.05</td>\n",
       "      <td>1855495090</td>\n",
       "      <td>9781855495098</td>\n",
       "      <td>eng</td>\n",
       "      <td>90</td>\n",
       "      <td>7</td>\n",
       "      <td>0</td>\n",
       "      <td>1995-09-15</td>\n",
       "      <td>BBC Audiobooks</td>\n",
       "    </tr>\n",
       "    <tr>\n",
       "      <th>11121</th>\n",
       "      <td>45630</td>\n",
       "      <td>Whores for Gloria</td>\n",
       "      <td>William T. Vollmann</td>\n",
       "      <td>3.69</td>\n",
       "      <td>140231579</td>\n",
       "      <td>9780140231571</td>\n",
       "      <td>en-US</td>\n",
       "      <td>160</td>\n",
       "      <td>932</td>\n",
       "      <td>111</td>\n",
       "      <td>1994-02-01</td>\n",
       "      <td>Penguin Books</td>\n",
       "    </tr>\n",
       "    <tr>\n",
       "      <th>11124</th>\n",
       "      <td>45634</td>\n",
       "      <td>The Ice-Shirt (Seven Dreams #1)</td>\n",
       "      <td>William T. Vollmann</td>\n",
       "      <td>3.96</td>\n",
       "      <td>140131965</td>\n",
       "      <td>9780140131963</td>\n",
       "      <td>eng</td>\n",
       "      <td>415</td>\n",
       "      <td>820</td>\n",
       "      <td>95</td>\n",
       "      <td>1993-08-01</td>\n",
       "      <td>Penguin Books</td>\n",
       "    </tr>\n",
       "  </tbody>\n",
       "</table>\n",
       "<p>2468 rows × 12 columns</p>\n",
       "</div>"
      ],
      "text/plain": [
       "       bookID                                              title  \\\n",
       "4           8  The Ultimate Hitchhiker's Guide (Hitchhiker's ...   \n",
       "17         26  The Lost Continent: Travels in Small Town America   \n",
       "18         27          Neither Here nor There: Travels in Europe   \n",
       "19         28                          Notes from a Small Island   \n",
       "20         29  The Mother Tongue: English and How It Got That...   \n",
       "...       ...                                                ...   \n",
       "11103   45557   Co. Aytch: A Confederate Memoir of the Civil War   \n",
       "11104   45564                             Jonny Reb & Billy Yank   \n",
       "11107   45572                 Fantastic Mr. Fox (Cover to Cover)   \n",
       "11121   45630                                  Whores for Gloria   \n",
       "11124   45634                    The Ice-Shirt (Seven Dreams #1)   \n",
       "\n",
       "                   authors  average_rating        isbn         isbn13  \\\n",
       "4            Douglas Adams            4.38   517149257  9780517149256   \n",
       "17             Bill Bryson            3.83    60920084  9780060920081   \n",
       "18             Bill Bryson            3.86   380713802  9780380713806   \n",
       "19             Bill Bryson            3.91   380727501  9780380727506   \n",
       "20             Bill Bryson            3.93   380715430  9780380715435   \n",
       "...                    ...             ...         ...            ...   \n",
       "11103       Sam R. Watkins            4.13   684833247  9780684833248   \n",
       "11104     Alexander Hunter            4.11  1568520808  9781568520803   \n",
       "11107           Roald Dahl            4.05  1855495090  9781855495098   \n",
       "11121  William T. Vollmann            3.69   140231579  9780140231571   \n",
       "11124  William T. Vollmann            3.96   140131965  9780140131963   \n",
       "\n",
       "      language_code  num_pages  ratings_count  text_reviews_count  \\\n",
       "4               eng        815           2877                 195   \n",
       "17              eng        299          45712                2257   \n",
       "18              eng        254          48701                2238   \n",
       "19              eng        324          80609                3301   \n",
       "20              eng        270          28489                2085   \n",
       "...             ...        ...            ...                 ...   \n",
       "11103           eng        240             23                   2   \n",
       "11104           eng        635             14                   2   \n",
       "11107           eng         90              7                   0   \n",
       "11121         en-US        160            932                 111   \n",
       "11124           eng        415            820                  95   \n",
       "\n",
       "      publication_date                  publisher  \n",
       "4           1996-01-17                Wings Books  \n",
       "17          1990-08-28  William Morrow Paperbacks  \n",
       "18          1993-03-28  William Morrow Paperbacks  \n",
       "19          1997-05-28  William Morrow Paperbacks  \n",
       "20          1991-09-28  William Morrow Paperbacks  \n",
       "...                ...                        ...  \n",
       "11103       1997-08-12           Touchstone Books  \n",
       "11104       1998-05-31                  Not Avail  \n",
       "11107       1995-09-15             BBC Audiobooks  \n",
       "11121       1994-02-01              Penguin Books  \n",
       "11124       1993-08-01              Penguin Books  \n",
       "\n",
       "[2468 rows x 12 columns]"
      ]
     },
     "execution_count": 225,
     "metadata": {},
     "output_type": "execute_result"
    }
   ],
   "source": [
    "nighties = df[ (df['publication_date'] > pd.Timestamp(1990,1,1)) & (df['publication_date'] < pd.Timestamp(1999,12,31)) ]\n",
    "nighties"
   ]
  },
  {
   "cell_type": "code",
   "execution_count": 253,
   "metadata": {},
   "outputs": [
    {
     "data": {
      "text/html": [
       "<div>\n",
       "<style scoped>\n",
       "    .dataframe tbody tr th:only-of-type {\n",
       "        vertical-align: middle;\n",
       "    }\n",
       "\n",
       "    .dataframe tbody tr th {\n",
       "        vertical-align: top;\n",
       "    }\n",
       "\n",
       "    .dataframe thead th {\n",
       "        text-align: right;\n",
       "    }\n",
       "</style>\n",
       "<table border=\"1\" class=\"dataframe\">\n",
       "  <thead>\n",
       "    <tr style=\"text-align: right;\">\n",
       "      <th></th>\n",
       "      <th>bookID</th>\n",
       "      <th>title</th>\n",
       "      <th>authors</th>\n",
       "      <th>average_rating</th>\n",
       "      <th>isbn</th>\n",
       "      <th>isbn13</th>\n",
       "      <th>language_code</th>\n",
       "      <th>num_pages</th>\n",
       "      <th>ratings_count</th>\n",
       "      <th>text_reviews_count</th>\n",
       "      <th>publication_date</th>\n",
       "      <th>publisher</th>\n",
       "      <th>most_pop_book_per_publisher</th>\n",
       "    </tr>\n",
       "  </thead>\n",
       "  <tbody>\n",
       "    <tr>\n",
       "      <th>8815</th>\n",
       "      <td>33993</td>\n",
       "      <td>Citizen Girl</td>\n",
       "      <td>Emma McLaughlin/Nicola Kraus</td>\n",
       "      <td>2.4</td>\n",
       "      <td>743266862</td>\n",
       "      <td>9780743266864</td>\n",
       "      <td>en-US</td>\n",
       "      <td>305</td>\n",
       "      <td>5415</td>\n",
       "      <td>577</td>\n",
       "      <td>2005-10-04</td>\n",
       "      <td>Washington Square Press</td>\n",
       "      <td></td>\n",
       "    </tr>\n",
       "  </tbody>\n",
       "</table>\n",
       "</div>"
      ],
      "text/plain": [
       "      bookID         title                       authors  average_rating  \\\n",
       "8815   33993  Citizen Girl  Emma McLaughlin/Nicola Kraus             2.4   \n",
       "\n",
       "           isbn         isbn13 language_code  num_pages  ratings_count  \\\n",
       "8815  743266862  9780743266864         en-US        305           5415   \n",
       "\n",
       "      text_reviews_count publication_date                publisher  \\\n",
       "8815                 577       2005-10-04  Washington Square Press   \n",
       "\n",
       "     most_pop_book_per_publisher  \n",
       "8815                              "
      ]
     },
     "execution_count": 253,
     "metadata": {},
     "output_type": "execute_result"
    }
   ],
   "source": [
    "def worst_pop(df, threshold):\n",
    "    worst_pop_filter = (df[\"average_rating\"]<threshold) & (df[\"ratings_count\"] > 500)\n",
    "    worst = df.loc[worst_pop_filter]\n",
    "    return worst.sort_values(by=[\"average_rating\"], ascending=True)[:1]\n",
    "\n",
    "worst_pop(df, 3)"
   ]
  },
  {
   "cell_type": "markdown",
   "metadata": {},
   "source": [
    "## Popularity: are books with fewer pages rated higher than books with more pages ?\n",
    "\n",
    "Filtering the results based on the number of pages and then secondarily, the number of ratings to make sure the rating given to the book is supported by many users.\n",
    "\n",
    "There is a difference of 1.6 between the two books. Books with more pages could be higher rated? I have to perform more analysis to prove this fact."
   ]
  },
  {
   "cell_type": "code",
   "execution_count": 227,
   "metadata": {},
   "outputs": [
    {
     "data": {
      "text/html": [
       "<div>\n",
       "<style scoped>\n",
       "    .dataframe tbody tr th:only-of-type {\n",
       "        vertical-align: middle;\n",
       "    }\n",
       "\n",
       "    .dataframe tbody tr th {\n",
       "        vertical-align: top;\n",
       "    }\n",
       "\n",
       "    .dataframe thead th {\n",
       "        text-align: right;\n",
       "    }\n",
       "</style>\n",
       "<table border=\"1\" class=\"dataframe\">\n",
       "  <thead>\n",
       "    <tr style=\"text-align: right;\">\n",
       "      <th></th>\n",
       "      <th>bookID</th>\n",
       "      <th>title</th>\n",
       "      <th>authors</th>\n",
       "      <th>average_rating</th>\n",
       "      <th>isbn</th>\n",
       "      <th>isbn13</th>\n",
       "      <th>language_code</th>\n",
       "      <th>num_pages</th>\n",
       "      <th>ratings_count</th>\n",
       "      <th>text_reviews_count</th>\n",
       "      <th>publication_date</th>\n",
       "      <th>publisher</th>\n",
       "    </tr>\n",
       "  </thead>\n",
       "  <tbody>\n",
       "    <tr>\n",
       "      <th>2</th>\n",
       "      <td>4</td>\n",
       "      <td>The Hitchhiker's Guide to the Galaxy (Hitchhik...</td>\n",
       "      <td>Douglas Adams</td>\n",
       "      <td>4.22</td>\n",
       "      <td>1400052920</td>\n",
       "      <td>9781400052929</td>\n",
       "      <td>eng</td>\n",
       "      <td>215</td>\n",
       "      <td>4930</td>\n",
       "      <td>460</td>\n",
       "      <td>2004-08-03</td>\n",
       "      <td>Crown</td>\n",
       "    </tr>\n",
       "  </tbody>\n",
       "</table>\n",
       "</div>"
      ],
      "text/plain": [
       "   bookID                                              title        authors  \\\n",
       "2       4  The Hitchhiker's Guide to the Galaxy (Hitchhik...  Douglas Adams   \n",
       "\n",
       "   average_rating        isbn         isbn13 language_code  num_pages  \\\n",
       "2            4.22  1400052920  9781400052929           eng        215   \n",
       "\n",
       "   ratings_count  text_reviews_count publication_date publisher  \n",
       "2           4930                 460       2004-08-03     Crown  "
      ]
     },
     "execution_count": 227,
     "metadata": {},
     "output_type": "execute_result"
    }
   ],
   "source": [
    "few_pages = df[df['num_pages'] < 300]\n",
    "few_pages = few_pages[few_pages['ratings_count'] > 1000]\n",
    "few_pages.sort_values(by=[\"average_rating\"], ascending=False) \n",
    "few_pages[:1]"
   ]
  },
  {
   "cell_type": "code",
   "execution_count": 228,
   "metadata": {},
   "outputs": [
    {
     "data": {
      "text/html": [
       "<div>\n",
       "<style scoped>\n",
       "    .dataframe tbody tr th:only-of-type {\n",
       "        vertical-align: middle;\n",
       "    }\n",
       "\n",
       "    .dataframe tbody tr th {\n",
       "        vertical-align: top;\n",
       "    }\n",
       "\n",
       "    .dataframe thead th {\n",
       "        text-align: right;\n",
       "    }\n",
       "</style>\n",
       "<table border=\"1\" class=\"dataframe\">\n",
       "  <thead>\n",
       "    <tr style=\"text-align: right;\">\n",
       "      <th></th>\n",
       "      <th>bookID</th>\n",
       "      <th>title</th>\n",
       "      <th>authors</th>\n",
       "      <th>average_rating</th>\n",
       "      <th>isbn</th>\n",
       "      <th>isbn13</th>\n",
       "      <th>language_code</th>\n",
       "      <th>num_pages</th>\n",
       "      <th>ratings_count</th>\n",
       "      <th>text_reviews_count</th>\n",
       "      <th>publication_date</th>\n",
       "      <th>publisher</th>\n",
       "    </tr>\n",
       "  </thead>\n",
       "  <tbody>\n",
       "    <tr>\n",
       "      <th>0</th>\n",
       "      <td>1</td>\n",
       "      <td>The Ultimate Hitchhiker's Guide: Five Complete...</td>\n",
       "      <td>Douglas Adams</td>\n",
       "      <td>4.38</td>\n",
       "      <td>517226952</td>\n",
       "      <td>9780517226957</td>\n",
       "      <td>eng</td>\n",
       "      <td>815</td>\n",
       "      <td>3628</td>\n",
       "      <td>254</td>\n",
       "      <td>2005-11-01</td>\n",
       "      <td>Gramercy Books</td>\n",
       "    </tr>\n",
       "  </tbody>\n",
       "</table>\n",
       "</div>"
      ],
      "text/plain": [
       "   bookID                                              title        authors  \\\n",
       "0       1  The Ultimate Hitchhiker's Guide: Five Complete...  Douglas Adams   \n",
       "\n",
       "   average_rating       isbn         isbn13 language_code  num_pages  \\\n",
       "0            4.38  517226952  9780517226957           eng        815   \n",
       "\n",
       "   ratings_count  text_reviews_count publication_date       publisher  \n",
       "0           3628                 254       2005-11-01  Gramercy Books  "
      ]
     },
     "execution_count": 228,
     "metadata": {},
     "output_type": "execute_result"
    }
   ],
   "source": [
    "many_pages =  df[df['num_pages'] > 300]\n",
    "many_pages = many_pages[many_pages['ratings_count'] > 1000]\n",
    "many_pages.sort_values(by=[\"average_rating\"], ascending=False) \n",
    "many_pages[:1]"
   ]
  },
  {
   "cell_type": "markdown",
   "metadata": {},
   "source": [
    "## Popularity : is there a correlation between popularity and number of pages? "
   ]
  },
  {
   "cell_type": "markdown",
   "metadata": {},
   "source": [
    "A chart showing the ratings vs. the number of pages would better show if there is a correlation here."
   ]
  },
  {
   "cell_type": "code",
   "execution_count": 229,
   "metadata": {
    "scrolled": true
   },
   "outputs": [],
   "source": [
    "def most_pops(df, num):\n",
    "    most_pop_filter = (df[\"average_rating\"]>4.0) & (df[\"ratings_count\"] > 1000)\n",
    "    popular = df.loc[most_pop_filter]\n",
    "    return popular.sort_values(by=[\"average_rating\"], ascending=False)[:num]\n",
    "\n",
    "#most_pops(df, 10)"
   ]
  },
  {
   "cell_type": "code",
   "execution_count": 230,
   "metadata": {},
   "outputs": [
    {
     "data": {
      "text/plain": [
       "<function matplotlib.pyplot.plot(*args, scalex=True, scaley=True, data=None, **kwargs)>"
      ]
     },
     "execution_count": 230,
     "metadata": {},
     "output_type": "execute_result"
    },
    {
     "data": {
      "image/png": "[encoded data removed]",
      "text/plain": [
       "<Figure size 432x288 with 1 Axes>"
      ]
     },
     "metadata": {
      "needs_background": "light"
     },
     "output_type": "display_data"
    }
   ],
   "source": [
    "mosts = most_pops(df, 500)[most_pops(df, 500)['num_pages'] <=1500]\n",
    "\n",
    "plt.scatter(mosts[['num_pages']], mosts[['average_rating']])\n",
    "plt.plot"
   ]
  },
  {
   "cell_type": "markdown",
   "metadata": {},
   "source": [
    "## Popularity : plotting the repartition of average_ratings for books with more that 1000 reviews."
   ]
  },
  {
   "cell_type": "code",
   "execution_count": null,
   "metadata": {},
   "outputs": [],
   "source": []
  },
  {
   "cell_type": "markdown",
   "metadata": {},
   "source": [
    "# ----------- NUMBER OF PAGES --------------"
   ]
  },
  {
   "cell_type": "markdown",
   "metadata": {},
   "source": [
    "## Pages : the biggest book?"
   ]
  },
  {
   "cell_type": "code",
   "execution_count": 231,
   "metadata": {},
   "outputs": [
    {
     "data": {
      "text/html": [
       "<div>\n",
       "<style scoped>\n",
       "    .dataframe tbody tr th:only-of-type {\n",
       "        vertical-align: middle;\n",
       "    }\n",
       "\n",
       "    .dataframe tbody tr th {\n",
       "        vertical-align: top;\n",
       "    }\n",
       "\n",
       "    .dataframe thead th {\n",
       "        text-align: right;\n",
       "    }\n",
       "</style>\n",
       "<table border=\"1\" class=\"dataframe\">\n",
       "  <thead>\n",
       "    <tr style=\"text-align: right;\">\n",
       "      <th></th>\n",
       "      <th>bookID</th>\n",
       "      <th>title</th>\n",
       "      <th>authors</th>\n",
       "      <th>average_rating</th>\n",
       "      <th>isbn</th>\n",
       "      <th>isbn13</th>\n",
       "      <th>language_code</th>\n",
       "      <th>num_pages</th>\n",
       "      <th>ratings_count</th>\n",
       "      <th>text_reviews_count</th>\n",
       "      <th>publication_date</th>\n",
       "      <th>publisher</th>\n",
       "    </tr>\n",
       "  </thead>\n",
       "  <tbody>\n",
       "    <tr>\n",
       "      <th>6500</th>\n",
       "      <td>24520</td>\n",
       "      <td>The Complete Aubrey/Maturin Novels (5 Volumes)</td>\n",
       "      <td>Patrick O'Brian</td>\n",
       "      <td>4.7</td>\n",
       "      <td>039306011X</td>\n",
       "      <td>9780393060119</td>\n",
       "      <td>eng</td>\n",
       "      <td>6576</td>\n",
       "      <td>1338</td>\n",
       "      <td>81</td>\n",
       "      <td>2004-10-17</td>\n",
       "      <td>W. W. Norton  Company</td>\n",
       "    </tr>\n",
       "  </tbody>\n",
       "</table>\n",
       "</div>"
      ],
      "text/plain": [
       "      bookID                                           title          authors  \\\n",
       "6500   24520  The Complete Aubrey/Maturin Novels (5 Volumes)  Patrick O'Brian   \n",
       "\n",
       "      average_rating        isbn         isbn13 language_code  num_pages  \\\n",
       "6500             4.7  039306011X  9780393060119           eng       6576   \n",
       "\n",
       "      ratings_count  text_reviews_count publication_date  \\\n",
       "6500           1338                  81       2004-10-17   \n",
       "\n",
       "                  publisher  \n",
       "6500  W. W. Norton  Company  "
      ]
     },
     "execution_count": 231,
     "metadata": {},
     "output_type": "execute_result"
    }
   ],
   "source": [
    "most = df.sort_values(by=[\"num_pages\"], ascending=False)[:1]\n",
    "most"
   ]
  },
  {
   "cell_type": "markdown",
   "metadata": {},
   "source": [
    "## Pages: Which author wrote the most pages?"
   ]
  },
  {
   "cell_type": "markdown",
   "metadata": {},
   "source": [
    "First, I found all of the unique authors in the dataset since many authors have written more than one book. I then looped through the data to grab the number of pages for each book an author has written and used sum() to get their total page count. Then the total pages we compared to find the author who had the most were Stephen King with 18219 pages."
   ]
  },
  {
   "cell_type": "code",
   "execution_count": 232,
   "metadata": {},
   "outputs": [
    {
     "data": {
      "text/plain": [
       "6836"
      ]
     },
     "execution_count": 232,
     "metadata": {},
     "output_type": "execute_result"
    }
   ],
   "source": [
    "df.loc[df['authors']==\"Dan Brown\",'num_pages' ].sum()"
   ]
  },
  {
   "cell_type": "code",
   "execution_count": 233,
   "metadata": {},
   "outputs": [
    {
     "data": {
      "text/plain": [
       "(18219, 'Stephen King', 40)"
      ]
     },
     "execution_count": 233,
     "metadata": {},
     "output_type": "execute_result"
    }
   ],
   "source": [
    "max = 0\n",
    "best =\"\"\n",
    "\n",
    "authors = df['authors'].unique()\n",
    "for author in authors:\n",
    "    number_pages = df.loc[df['authors']==author,'num_pages' ].sum()\n",
    "    n_books = df.loc[df['authors']==\"Stephen King\", 'title'].count()\n",
    "    if number_pages > max:\n",
    "        max = number_pages\n",
    "        best = author\n",
    "(max, best, n_books)"
   ]
  },
  {
   "cell_type": "markdown",
   "metadata": {},
   "source": [
    "I have applied anoter method using pivot_table function with authors as an index and num_pages as values summing the pages. "
   ]
  },
  {
   "cell_type": "code",
   "execution_count": 234,
   "metadata": {
    "scrolled": true
   },
   "outputs": [
    {
     "data": {
      "text/html": [
       "<div>\n",
       "<style scoped>\n",
       "    .dataframe tbody tr th:only-of-type {\n",
       "        vertical-align: middle;\n",
       "    }\n",
       "\n",
       "    .dataframe tbody tr th {\n",
       "        vertical-align: top;\n",
       "    }\n",
       "\n",
       "    .dataframe thead th {\n",
       "        text-align: right;\n",
       "    }\n",
       "</style>\n",
       "<table border=\"1\" class=\"dataframe\">\n",
       "  <thead>\n",
       "    <tr style=\"text-align: right;\">\n",
       "      <th></th>\n",
       "      <th>num_pages</th>\n",
       "    </tr>\n",
       "    <tr>\n",
       "      <th>authors</th>\n",
       "      <th></th>\n",
       "    </tr>\n",
       "  </thead>\n",
       "  <tbody>\n",
       "    <tr>\n",
       "      <th>Stephen King</th>\n",
       "      <td>18219</td>\n",
       "    </tr>\n",
       "    <tr>\n",
       "      <th>Orson Scott Card</th>\n",
       "      <td>14066</td>\n",
       "    </tr>\n",
       "    <tr>\n",
       "      <th>J.R.R. Tolkien</th>\n",
       "      <td>12537</td>\n",
       "    </tr>\n",
       "    <tr>\n",
       "      <th>Dan Simmons</th>\n",
       "      <td>11700</td>\n",
       "    </tr>\n",
       "    <tr>\n",
       "      <th>P.G. Wodehouse</th>\n",
       "      <td>11619</td>\n",
       "    </tr>\n",
       "    <tr>\n",
       "      <th>Mercedes Lackey</th>\n",
       "      <td>11480</td>\n",
       "    </tr>\n",
       "    <tr>\n",
       "      <th>Piers Anthony</th>\n",
       "      <td>10883</td>\n",
       "    </tr>\n",
       "    <tr>\n",
       "      <th>Agatha Christie</th>\n",
       "      <td>10556</td>\n",
       "    </tr>\n",
       "    <tr>\n",
       "      <th>Laurell K. Hamilton</th>\n",
       "      <td>10219</td>\n",
       "    </tr>\n",
       "    <tr>\n",
       "      <th>Sandra Brown</th>\n",
       "      <td>10091</td>\n",
       "    </tr>\n",
       "    <tr>\n",
       "      <th>Patrick O'Brian</th>\n",
       "      <td>9800</td>\n",
       "    </tr>\n",
       "    <tr>\n",
       "      <th>Margaret Weis/Tracy Hickman</th>\n",
       "      <td>9631</td>\n",
       "    </tr>\n",
       "    <tr>\n",
       "      <th>Dean Koontz</th>\n",
       "      <td>9315</td>\n",
       "    </tr>\n",
       "    <tr>\n",
       "      <th>Terry Brooks</th>\n",
       "      <td>9279</td>\n",
       "    </tr>\n",
       "    <tr>\n",
       "      <th>James Patterson</th>\n",
       "      <td>9140</td>\n",
       "    </tr>\n",
       "    <tr>\n",
       "      <th>Dick Francis</th>\n",
       "      <td>9106</td>\n",
       "    </tr>\n",
       "    <tr>\n",
       "      <th>Anne Rice</th>\n",
       "      <td>8703</td>\n",
       "    </tr>\n",
       "    <tr>\n",
       "      <th>Rumiko Takahashi</th>\n",
       "      <td>8601</td>\n",
       "    </tr>\n",
       "    <tr>\n",
       "      <th>Maeve Binchy</th>\n",
       "      <td>8385</td>\n",
       "    </tr>\n",
       "    <tr>\n",
       "      <th>Marian Keyes</th>\n",
       "      <td>8140</td>\n",
       "    </tr>\n",
       "  </tbody>\n",
       "</table>\n",
       "</div>"
      ],
      "text/plain": [
       "                             num_pages\n",
       "authors                               \n",
       "Stephen King                     18219\n",
       "Orson Scott Card                 14066\n",
       "J.R.R. Tolkien                   12537\n",
       "Dan Simmons                      11700\n",
       "P.G. Wodehouse                   11619\n",
       "Mercedes Lackey                  11480\n",
       "Piers Anthony                    10883\n",
       "Agatha Christie                  10556\n",
       "Laurell K. Hamilton              10219\n",
       "Sandra Brown                     10091\n",
       "Patrick O'Brian                   9800\n",
       "Margaret Weis/Tracy Hickman       9631\n",
       "Dean Koontz                       9315\n",
       "Terry Brooks                      9279\n",
       "James Patterson                   9140\n",
       "Dick Francis                      9106\n",
       "Anne Rice                         8703\n",
       "Rumiko Takahashi                  8601\n",
       "Maeve Binchy                      8385\n",
       "Marian Keyes                      8140"
      ]
     },
     "execution_count": 234,
     "metadata": {},
     "output_type": "execute_result"
    }
   ],
   "source": [
    "pivot = df.pivot_table(index=['authors'], values=['num_pages'], aggfunc='sum')\n",
    "pivot.sort_values(by=['num_pages'], ascending=False)[:20]"
   ]
  },
  {
   "cell_type": "markdown",
   "metadata": {},
   "source": [
    "## Pages: What's an author average page count?\n",
    "I used the code from the previous question that gathers an author's total page count and divided it by the total number of books an author has written to get their average number of pages written per book."
   ]
  },
  {
   "cell_type": "code",
   "execution_count": 235,
   "metadata": {},
   "outputs": [
    {
     "data": {
      "text/plain": [
       "'Books written by Stephen King have an average of 455 pages'"
      ]
     },
     "execution_count": 235,
     "metadata": {},
     "output_type": "execute_result"
    }
   ],
   "source": [
    "def average_page(author):\n",
    "    number_pages = df.loc[df['authors']==author,'num_pages' ].sum()\n",
    "    n_books = df.loc[df['authors']==author, 'title'].count()\n",
    "    return round(number_pages/n_books) \n",
    "author = \"Stephen King\"\n",
    "f\"Books written by {author} have an average of {average_page(author)} pages\""
   ]
  },
  {
   "cell_type": "code",
   "execution_count": 236,
   "metadata": {},
   "outputs": [
    {
     "data": {
      "text/plain": [
       "'Books written by Agatha Christie have an average of 320 pages'"
      ]
     },
     "execution_count": 236,
     "metadata": {},
     "output_type": "execute_result"
    }
   ],
   "source": [
    "author = \"Agatha Christie\"\n",
    "f\"Books written by {author} have an average of {average_page(author)} pages\""
   ]
  },
  {
   "cell_type": "markdown",
   "metadata": {},
   "source": [
    "## Pages: How many books have been written with less than 200 pages?\n",
    "I filtered the books to find all with num_pages less than 200 and then took the length of the returned value. There are currently 2898 books in the dataset with less than 200 pages."
   ]
  },
  {
   "cell_type": "code",
   "execution_count": 237,
   "metadata": {},
   "outputs": [
    {
     "data": {
      "text/plain": [
       "'26.04% of books are less that 200 pages'"
      ]
     },
     "execution_count": 237,
     "metadata": {},
     "output_type": "execute_result"
    }
   ],
   "source": [
    "less_200 = df[df['num_pages'] < 200]\n",
    "f\"{round(len(less_200)/len(df) *100, 2)}% of books are less that 200 pages\""
   ]
  },
  {
   "cell_type": "markdown",
   "metadata": {},
   "source": [
    "## Pages: What is the highest rated book with over 500 pages ?\n",
    "First, I found books with over 500 pages and more than 1000 ratings. Then I sorted the books by average rating in descending order to find the highest-rated book with over 500 pages."
   ]
  },
  {
   "cell_type": "code",
   "execution_count": 257,
   "metadata": {},
   "outputs": [
    {
     "data": {
      "text/html": [
       "<div>\n",
       "<style scoped>\n",
       "    .dataframe tbody tr th:only-of-type {\n",
       "        vertical-align: middle;\n",
       "    }\n",
       "\n",
       "    .dataframe tbody tr th {\n",
       "        vertical-align: top;\n",
       "    }\n",
       "\n",
       "    .dataframe thead th {\n",
       "        text-align: right;\n",
       "    }\n",
       "</style>\n",
       "<table border=\"1\" class=\"dataframe\">\n",
       "  <thead>\n",
       "    <tr style=\"text-align: right;\">\n",
       "      <th></th>\n",
       "      <th>bookID</th>\n",
       "      <th>title</th>\n",
       "      <th>authors</th>\n",
       "      <th>average_rating</th>\n",
       "      <th>isbn</th>\n",
       "      <th>isbn13</th>\n",
       "      <th>language_code</th>\n",
       "      <th>num_pages</th>\n",
       "      <th>ratings_count</th>\n",
       "      <th>text_reviews_count</th>\n",
       "      <th>publication_date</th>\n",
       "      <th>publisher</th>\n",
       "      <th>most_pop_book_per_publisher</th>\n",
       "    </tr>\n",
       "  </thead>\n",
       "  <tbody>\n",
       "    <tr>\n",
       "      <th>6590</th>\n",
       "      <td>24812</td>\n",
       "      <td>The Complete Calvin and Hobbes</td>\n",
       "      <td>Bill Watterson</td>\n",
       "      <td>4.82</td>\n",
       "      <td>740748475</td>\n",
       "      <td>9780740748479</td>\n",
       "      <td>eng</td>\n",
       "      <td>1456</td>\n",
       "      <td>32213</td>\n",
       "      <td>930</td>\n",
       "      <td>2005-09-06</td>\n",
       "      <td>Andrews McMeel Publishing</td>\n",
       "      <td>The Complete Calvin and Hobbes</td>\n",
       "    </tr>\n",
       "  </tbody>\n",
       "</table>\n",
       "</div>"
      ],
      "text/plain": [
       "      bookID                           title         authors  average_rating  \\\n",
       "6590   24812  The Complete Calvin and Hobbes  Bill Watterson            4.82   \n",
       "\n",
       "           isbn         isbn13 language_code  num_pages  ratings_count  \\\n",
       "6590  740748475  9780740748479           eng       1456          32213   \n",
       "\n",
       "      text_reviews_count publication_date                  publisher  \\\n",
       "6590                 930       2005-09-06  Andrews McMeel Publishing   \n",
       "\n",
       "         most_pop_book_per_publisher  \n",
       "6590  The Complete Calvin and Hobbes  "
      ]
     },
     "execution_count": 257,
     "metadata": {},
     "output_type": "execute_result"
    }
   ],
   "source": [
    "df1 = df[df['num_pages']>=500]\n",
    "df1 = df1[df1['ratings_count'] > 1000]\n",
    "highest_500p = df1.sort_values(by='average_rating', ascending=False)[:1]\n",
    "highest_500p"
   ]
  },
  {
   "cell_type": "markdown",
   "metadata": {},
   "source": [
    "## Pages: Plotting the repartition of books by number of pages"
   ]
  },
  {
   "cell_type": "code",
   "execution_count": null,
   "metadata": {},
   "outputs": [],
   "source": []
  },
  {
   "cell_type": "markdown",
   "metadata": {},
   "source": [
    "# ---------- NUMBER OF REVIEWS --------------"
   ]
  },
  {
   "cell_type": "markdown",
   "metadata": {},
   "source": [
    "- What is the most reviewed book ?\n",
    "- Is there a correlation between number of reviews and rating (maybe we are more willing to give a rating to a book we appreciate\n",
    "- link with the number of text reviews\n",
    "- link with the date of publication"
   ]
  },
  {
   "cell_type": "code",
   "execution_count": 260,
   "metadata": {},
   "outputs": [
    {
     "data": {
      "text/html": [
       "<div>\n",
       "<style scoped>\n",
       "    .dataframe tbody tr th:only-of-type {\n",
       "        vertical-align: middle;\n",
       "    }\n",
       "\n",
       "    .dataframe tbody tr th {\n",
       "        vertical-align: top;\n",
       "    }\n",
       "\n",
       "    .dataframe thead th {\n",
       "        text-align: right;\n",
       "    }\n",
       "</style>\n",
       "<table border=\"1\" class=\"dataframe\">\n",
       "  <thead>\n",
       "    <tr style=\"text-align: right;\">\n",
       "      <th></th>\n",
       "      <th>bookID</th>\n",
       "      <th>title</th>\n",
       "      <th>authors</th>\n",
       "      <th>average_rating</th>\n",
       "      <th>isbn</th>\n",
       "      <th>isbn13</th>\n",
       "      <th>language_code</th>\n",
       "      <th>num_pages</th>\n",
       "      <th>ratings_count</th>\n",
       "      <th>text_reviews_count</th>\n",
       "      <th>publication_date</th>\n",
       "      <th>publisher</th>\n",
       "      <th>most_pop_book_per_publisher</th>\n",
       "    </tr>\n",
       "  </thead>\n",
       "  <tbody>\n",
       "    <tr>\n",
       "      <th>10340</th>\n",
       "      <td>41865</td>\n",
       "      <td>Twilight (Twilight  #1)</td>\n",
       "      <td>Stephenie Meyer</td>\n",
       "      <td>3.59</td>\n",
       "      <td>316015849</td>\n",
       "      <td>9780316015844</td>\n",
       "      <td>eng</td>\n",
       "      <td>501</td>\n",
       "      <td>4597666</td>\n",
       "      <td>94265</td>\n",
       "      <td>2006-09-06</td>\n",
       "      <td>Little  Brown and Company</td>\n",
       "      <td></td>\n",
       "    </tr>\n",
       "    <tr>\n",
       "      <th>1697</th>\n",
       "      <td>5907</td>\n",
       "      <td>The Hobbit  or There and Back Again</td>\n",
       "      <td>J.R.R. Tolkien</td>\n",
       "      <td>4.27</td>\n",
       "      <td>618260307</td>\n",
       "      <td>9780618260300</td>\n",
       "      <td>eng</td>\n",
       "      <td>366</td>\n",
       "      <td>2530894</td>\n",
       "      <td>32871</td>\n",
       "      <td>2002-08-15</td>\n",
       "      <td>Houghton Mifflin</td>\n",
       "      <td></td>\n",
       "    </tr>\n",
       "    <tr>\n",
       "      <th>1462</th>\n",
       "      <td>5107</td>\n",
       "      <td>The Catcher in the Rye</td>\n",
       "      <td>J.D. Salinger</td>\n",
       "      <td>3.80</td>\n",
       "      <td>316769177</td>\n",
       "      <td>9780316769174</td>\n",
       "      <td>eng</td>\n",
       "      <td>277</td>\n",
       "      <td>2457092</td>\n",
       "      <td>43499</td>\n",
       "      <td>2001-01-30</td>\n",
       "      <td>Back Bay Books</td>\n",
       "      <td></td>\n",
       "    </tr>\n",
       "    <tr>\n",
       "      <th>307</th>\n",
       "      <td>960</td>\n",
       "      <td>Angels &amp; Demons (Robert Langdon  #1)</td>\n",
       "      <td>Dan Brown</td>\n",
       "      <td>3.89</td>\n",
       "      <td>1416524797</td>\n",
       "      <td>9781416524793</td>\n",
       "      <td>eng</td>\n",
       "      <td>736</td>\n",
       "      <td>2418736</td>\n",
       "      <td>21303</td>\n",
       "      <td>2006-04-01</td>\n",
       "      <td>Pocket Books</td>\n",
       "      <td></td>\n",
       "    </tr>\n",
       "    <tr>\n",
       "      <th>10</th>\n",
       "      <td>16</td>\n",
       "      <td>Harry Potter and the Prisoner of Azkaban (Harr...</td>\n",
       "      <td>J.K. Rowling/Mary GrandPré</td>\n",
       "      <td>4.56</td>\n",
       "      <td>043965548X</td>\n",
       "      <td>9780439655484</td>\n",
       "      <td>eng</td>\n",
       "      <td>435</td>\n",
       "      <td>2339585</td>\n",
       "      <td>36325</td>\n",
       "      <td>2004-05-01</td>\n",
       "      <td>Scholastic Inc.</td>\n",
       "      <td>Harry Potter and the Half-Blood Prince (Harry ...</td>\n",
       "    </tr>\n",
       "    <tr>\n",
       "      <th>4416</th>\n",
       "      <td>15881</td>\n",
       "      <td>Harry Potter and the Chamber of Secrets (Harry...</td>\n",
       "      <td>J.K. Rowling/Mary GrandPré</td>\n",
       "      <td>4.42</td>\n",
       "      <td>439064864</td>\n",
       "      <td>9780439064866</td>\n",
       "      <td>eng</td>\n",
       "      <td>341</td>\n",
       "      <td>2293963</td>\n",
       "      <td>34692</td>\n",
       "      <td>1999-06-02</td>\n",
       "      <td>Arthur A. Levine Books / Scholastic Inc.</td>\n",
       "      <td></td>\n",
       "    </tr>\n",
       "    <tr>\n",
       "      <th>8</th>\n",
       "      <td>13</td>\n",
       "      <td>Harry Potter and the Order of the Phoenix (Har...</td>\n",
       "      <td>J.K. Rowling/Mary GrandPré</td>\n",
       "      <td>4.49</td>\n",
       "      <td>439358078</td>\n",
       "      <td>9780439358071</td>\n",
       "      <td>eng</td>\n",
       "      <td>870</td>\n",
       "      <td>2153167</td>\n",
       "      <td>29221</td>\n",
       "      <td>2004-09-01</td>\n",
       "      <td>Scholastic Inc.</td>\n",
       "      <td>Harry Potter and the Half-Blood Prince (Harry ...</td>\n",
       "    </tr>\n",
       "    <tr>\n",
       "      <th>23</th>\n",
       "      <td>34</td>\n",
       "      <td>The Fellowship of the Ring (The Lord of the Ri...</td>\n",
       "      <td>J.R.R. Tolkien</td>\n",
       "      <td>4.36</td>\n",
       "      <td>618346252</td>\n",
       "      <td>9780618346257</td>\n",
       "      <td>eng</td>\n",
       "      <td>398</td>\n",
       "      <td>2128944</td>\n",
       "      <td>13670</td>\n",
       "      <td>2003-09-05</td>\n",
       "      <td>Houghton Mifflin Harcourt</td>\n",
       "      <td>The Lord of the Rings: The Art of the Fellowsh...</td>\n",
       "    </tr>\n",
       "    <tr>\n",
       "      <th>2114</th>\n",
       "      <td>7613</td>\n",
       "      <td>Animal Farm</td>\n",
       "      <td>George Orwell/Boris Grabnar/Peter Škerl</td>\n",
       "      <td>3.93</td>\n",
       "      <td>452284244</td>\n",
       "      <td>9780452284241</td>\n",
       "      <td>eng</td>\n",
       "      <td>122</td>\n",
       "      <td>2111750</td>\n",
       "      <td>29677</td>\n",
       "      <td>2003-05-06</td>\n",
       "      <td>NAL</td>\n",
       "      <td></td>\n",
       "    </tr>\n",
       "    <tr>\n",
       "      <th>7</th>\n",
       "      <td>12</td>\n",
       "      <td>Harry Potter and the Half-Blood Prince (Harry ...</td>\n",
       "      <td>J.K. Rowling/Mary GrandPré</td>\n",
       "      <td>4.57</td>\n",
       "      <td>439785960</td>\n",
       "      <td>9780439785969</td>\n",
       "      <td>eng</td>\n",
       "      <td>652</td>\n",
       "      <td>2095690</td>\n",
       "      <td>27591</td>\n",
       "      <td>2006-09-16</td>\n",
       "      <td>Scholastic Inc.</td>\n",
       "      <td>Harry Potter and the Half-Blood Prince (Harry ...</td>\n",
       "    </tr>\n",
       "  </tbody>\n",
       "</table>\n",
       "</div>"
      ],
      "text/plain": [
       "       bookID                                              title  \\\n",
       "10340   41865                            Twilight (Twilight  #1)   \n",
       "1697     5907                The Hobbit  or There and Back Again   \n",
       "1462     5107                             The Catcher in the Rye   \n",
       "307       960               Angels & Demons (Robert Langdon  #1)   \n",
       "10         16  Harry Potter and the Prisoner of Azkaban (Harr...   \n",
       "4416    15881  Harry Potter and the Chamber of Secrets (Harry...   \n",
       "8          13  Harry Potter and the Order of the Phoenix (Har...   \n",
       "23         34  The Fellowship of the Ring (The Lord of the Ri...   \n",
       "2114     7613                                        Animal Farm   \n",
       "7          12  Harry Potter and the Half-Blood Prince (Harry ...   \n",
       "\n",
       "                                       authors  average_rating        isbn  \\\n",
       "10340                          Stephenie Meyer            3.59   316015849   \n",
       "1697                            J.R.R. Tolkien            4.27   618260307   \n",
       "1462                             J.D. Salinger            3.80   316769177   \n",
       "307                                  Dan Brown            3.89  1416524797   \n",
       "10                  J.K. Rowling/Mary GrandPré            4.56  043965548X   \n",
       "4416                J.K. Rowling/Mary GrandPré            4.42   439064864   \n",
       "8                   J.K. Rowling/Mary GrandPré            4.49   439358078   \n",
       "23                              J.R.R. Tolkien            4.36   618346252   \n",
       "2114   George Orwell/Boris Grabnar/Peter Škerl            3.93   452284244   \n",
       "7                   J.K. Rowling/Mary GrandPré            4.57   439785960   \n",
       "\n",
       "              isbn13 language_code  num_pages  ratings_count  \\\n",
       "10340  9780316015844           eng        501        4597666   \n",
       "1697   9780618260300           eng        366        2530894   \n",
       "1462   9780316769174           eng        277        2457092   \n",
       "307    9781416524793           eng        736        2418736   \n",
       "10     9780439655484           eng        435        2339585   \n",
       "4416   9780439064866           eng        341        2293963   \n",
       "8      9780439358071           eng        870        2153167   \n",
       "23     9780618346257           eng        398        2128944   \n",
       "2114   9780452284241           eng        122        2111750   \n",
       "7      9780439785969           eng        652        2095690   \n",
       "\n",
       "       text_reviews_count publication_date  \\\n",
       "10340               94265       2006-09-06   \n",
       "1697                32871       2002-08-15   \n",
       "1462                43499       2001-01-30   \n",
       "307                 21303       2006-04-01   \n",
       "10                  36325       2004-05-01   \n",
       "4416                34692       1999-06-02   \n",
       "8                   29221       2004-09-01   \n",
       "23                  13670       2003-09-05   \n",
       "2114                29677       2003-05-06   \n",
       "7                   27591       2006-09-16   \n",
       "\n",
       "                                      publisher  \\\n",
       "10340                 Little  Brown and Company   \n",
       "1697                           Houghton Mifflin   \n",
       "1462                             Back Bay Books   \n",
       "307                                Pocket Books   \n",
       "10                              Scholastic Inc.   \n",
       "4416   Arthur A. Levine Books / Scholastic Inc.   \n",
       "8                               Scholastic Inc.   \n",
       "23                    Houghton Mifflin Harcourt   \n",
       "2114                                        NAL   \n",
       "7                               Scholastic Inc.   \n",
       "\n",
       "                             most_pop_book_per_publisher  \n",
       "10340                                                     \n",
       "1697                                                      \n",
       "1462                                                      \n",
       "307                                                       \n",
       "10     Harry Potter and the Half-Blood Prince (Harry ...  \n",
       "4416                                                      \n",
       "8      Harry Potter and the Half-Blood Prince (Harry ...  \n",
       "23     The Lord of the Rings: The Art of the Fellowsh...  \n",
       "2114                                                      \n",
       "7      Harry Potter and the Half-Blood Prince (Harry ...  "
      ]
     },
     "execution_count": 260,
     "metadata": {},
     "output_type": "execute_result"
    }
   ],
   "source": [
    "df.sort_values(by='ratings_count', ascending= False)[:10]"
   ]
  },
  {
   "cell_type": "markdown",
   "metadata": {},
   "source": [
    "## ---------NUMBER OF TEXT REVIEWS ----------"
   ]
  },
  {
   "cell_type": "code",
   "execution_count": 261,
   "metadata": {},
   "outputs": [
    {
     "data": {
      "text/html": [
       "<div>\n",
       "<style scoped>\n",
       "    .dataframe tbody tr th:only-of-type {\n",
       "        vertical-align: middle;\n",
       "    }\n",
       "\n",
       "    .dataframe tbody tr th {\n",
       "        vertical-align: top;\n",
       "    }\n",
       "\n",
       "    .dataframe thead th {\n",
       "        text-align: right;\n",
       "    }\n",
       "</style>\n",
       "<table border=\"1\" class=\"dataframe\">\n",
       "  <thead>\n",
       "    <tr style=\"text-align: right;\">\n",
       "      <th></th>\n",
       "      <th>bookID</th>\n",
       "      <th>title</th>\n",
       "      <th>authors</th>\n",
       "      <th>average_rating</th>\n",
       "      <th>isbn</th>\n",
       "      <th>isbn13</th>\n",
       "      <th>language_code</th>\n",
       "      <th>num_pages</th>\n",
       "      <th>ratings_count</th>\n",
       "      <th>text_reviews_count</th>\n",
       "      <th>publication_date</th>\n",
       "      <th>publisher</th>\n",
       "      <th>most_pop_book_per_publisher</th>\n",
       "    </tr>\n",
       "  </thead>\n",
       "  <tbody>\n",
       "    <tr>\n",
       "      <th>10340</th>\n",
       "      <td>41865</td>\n",
       "      <td>Twilight (Twilight  #1)</td>\n",
       "      <td>Stephenie Meyer</td>\n",
       "      <td>3.59</td>\n",
       "      <td>316015849</td>\n",
       "      <td>9780316015844</td>\n",
       "      <td>eng</td>\n",
       "      <td>501</td>\n",
       "      <td>4597666</td>\n",
       "      <td>94265</td>\n",
       "      <td>2006-09-06</td>\n",
       "      <td>Little  Brown and Company</td>\n",
       "      <td></td>\n",
       "    </tr>\n",
       "    <tr>\n",
       "      <th>5272</th>\n",
       "      <td>19063</td>\n",
       "      <td>The Book Thief</td>\n",
       "      <td>Markus Zusak/Cao Xuân Việt Khương</td>\n",
       "      <td>4.37</td>\n",
       "      <td>375831002</td>\n",
       "      <td>9780375831003</td>\n",
       "      <td>eng</td>\n",
       "      <td>552</td>\n",
       "      <td>1516367</td>\n",
       "      <td>86881</td>\n",
       "      <td>2006-03-14</td>\n",
       "      <td>Alfred A. Knopf</td>\n",
       "      <td></td>\n",
       "    </tr>\n",
       "    <tr>\n",
       "      <th>1069</th>\n",
       "      <td>3636</td>\n",
       "      <td>The Giver (The Giver  #1)</td>\n",
       "      <td>Lois Lowry</td>\n",
       "      <td>4.13</td>\n",
       "      <td>385732554</td>\n",
       "      <td>9780385732550</td>\n",
       "      <td>eng</td>\n",
       "      <td>208</td>\n",
       "      <td>1585589</td>\n",
       "      <td>56604</td>\n",
       "      <td>2006-01-24</td>\n",
       "      <td>Ember</td>\n",
       "      <td></td>\n",
       "    </tr>\n",
       "    <tr>\n",
       "      <th>284</th>\n",
       "      <td>865</td>\n",
       "      <td>The Alchemist</td>\n",
       "      <td>Paulo Coelho/Alan R. Clarke/Özdemir İnce</td>\n",
       "      <td>3.86</td>\n",
       "      <td>61122416</td>\n",
       "      <td>9780061122415</td>\n",
       "      <td>eng</td>\n",
       "      <td>197</td>\n",
       "      <td>1631221</td>\n",
       "      <td>55843</td>\n",
       "      <td>1993-05-01</td>\n",
       "      <td>HarperCollins</td>\n",
       "      <td></td>\n",
       "    </tr>\n",
       "    <tr>\n",
       "      <th>10704</th>\n",
       "      <td>43641</td>\n",
       "      <td>Water for Elephants</td>\n",
       "      <td>Sara Gruen</td>\n",
       "      <td>4.09</td>\n",
       "      <td>1565125606</td>\n",
       "      <td>9781565125605</td>\n",
       "      <td>eng</td>\n",
       "      <td>335</td>\n",
       "      <td>1260027</td>\n",
       "      <td>52759</td>\n",
       "      <td>2007-05-01</td>\n",
       "      <td>Algonquin Books</td>\n",
       "      <td></td>\n",
       "    </tr>\n",
       "    <tr>\n",
       "      <th>7312</th>\n",
       "      <td>28187</td>\n",
       "      <td>The Lightning Thief (Percy Jackson and the Oly...</td>\n",
       "      <td>Rick Riordan</td>\n",
       "      <td>4.25</td>\n",
       "      <td>786838655</td>\n",
       "      <td>9780786838653</td>\n",
       "      <td>eng</td>\n",
       "      <td>375</td>\n",
       "      <td>1766725</td>\n",
       "      <td>47951</td>\n",
       "      <td>2006-03-01</td>\n",
       "      <td>Disney Hyperion Books</td>\n",
       "      <td></td>\n",
       "    </tr>\n",
       "    <tr>\n",
       "      <th>5409</th>\n",
       "      <td>19501</td>\n",
       "      <td>Eat  Pray  Love</td>\n",
       "      <td>Elizabeth Gilbert</td>\n",
       "      <td>3.55</td>\n",
       "      <td>143038419</td>\n",
       "      <td>9780143038412</td>\n",
       "      <td>eng</td>\n",
       "      <td>368</td>\n",
       "      <td>1362264</td>\n",
       "      <td>47620</td>\n",
       "      <td>2007-02-01</td>\n",
       "      <td>Riverhead Books</td>\n",
       "      <td></td>\n",
       "    </tr>\n",
       "    <tr>\n",
       "      <th>2060</th>\n",
       "      <td>7445</td>\n",
       "      <td>The Glass Castle</td>\n",
       "      <td>Jeannette Walls</td>\n",
       "      <td>4.27</td>\n",
       "      <td>074324754X</td>\n",
       "      <td>9780743247542</td>\n",
       "      <td>eng</td>\n",
       "      <td>288</td>\n",
       "      <td>808656</td>\n",
       "      <td>46176</td>\n",
       "      <td>2006-01-17</td>\n",
       "      <td>Scribner</td>\n",
       "      <td></td>\n",
       "    </tr>\n",
       "    <tr>\n",
       "      <th>1462</th>\n",
       "      <td>5107</td>\n",
       "      <td>The Catcher in the Rye</td>\n",
       "      <td>J.D. Salinger</td>\n",
       "      <td>3.80</td>\n",
       "      <td>316769177</td>\n",
       "      <td>9780316769174</td>\n",
       "      <td>eng</td>\n",
       "      <td>277</td>\n",
       "      <td>2457092</td>\n",
       "      <td>43499</td>\n",
       "      <td>2001-01-30</td>\n",
       "      <td>Back Bay Books</td>\n",
       "      <td></td>\n",
       "    </tr>\n",
       "    <tr>\n",
       "      <th>10</th>\n",
       "      <td>16</td>\n",
       "      <td>Harry Potter and the Prisoner of Azkaban (Harr...</td>\n",
       "      <td>J.K. Rowling/Mary GrandPré</td>\n",
       "      <td>4.56</td>\n",
       "      <td>043965548X</td>\n",
       "      <td>9780439655484</td>\n",
       "      <td>eng</td>\n",
       "      <td>435</td>\n",
       "      <td>2339585</td>\n",
       "      <td>36325</td>\n",
       "      <td>2004-05-01</td>\n",
       "      <td>Scholastic Inc.</td>\n",
       "      <td>Harry Potter and the Half-Blood Prince (Harry ...</td>\n",
       "    </tr>\n",
       "  </tbody>\n",
       "</table>\n",
       "</div>"
      ],
      "text/plain": [
       "       bookID                                              title  \\\n",
       "10340   41865                            Twilight (Twilight  #1)   \n",
       "5272    19063                                     The Book Thief   \n",
       "1069     3636                          The Giver (The Giver  #1)   \n",
       "284       865                                      The Alchemist   \n",
       "10704   43641                                Water for Elephants   \n",
       "7312    28187  The Lightning Thief (Percy Jackson and the Oly...   \n",
       "5409    19501                                    Eat  Pray  Love   \n",
       "2060     7445                                   The Glass Castle   \n",
       "1462     5107                             The Catcher in the Rye   \n",
       "10         16  Harry Potter and the Prisoner of Azkaban (Harr...   \n",
       "\n",
       "                                        authors  average_rating        isbn  \\\n",
       "10340                           Stephenie Meyer            3.59   316015849   \n",
       "5272          Markus Zusak/Cao Xuân Việt Khương            4.37   375831002   \n",
       "1069                                 Lois Lowry            4.13   385732554   \n",
       "284    Paulo Coelho/Alan R. Clarke/Özdemir İnce            3.86    61122416   \n",
       "10704                                Sara Gruen            4.09  1565125606   \n",
       "7312                               Rick Riordan            4.25   786838655   \n",
       "5409                          Elizabeth Gilbert            3.55   143038419   \n",
       "2060                            Jeannette Walls            4.27  074324754X   \n",
       "1462                              J.D. Salinger            3.80   316769177   \n",
       "10                   J.K. Rowling/Mary GrandPré            4.56  043965548X   \n",
       "\n",
       "              isbn13 language_code  num_pages  ratings_count  \\\n",
       "10340  9780316015844           eng        501        4597666   \n",
       "5272   9780375831003           eng        552        1516367   \n",
       "1069   9780385732550           eng        208        1585589   \n",
       "284    9780061122415           eng        197        1631221   \n",
       "10704  9781565125605           eng        335        1260027   \n",
       "7312   9780786838653           eng        375        1766725   \n",
       "5409   9780143038412           eng        368        1362264   \n",
       "2060   9780743247542           eng        288         808656   \n",
       "1462   9780316769174           eng        277        2457092   \n",
       "10     9780439655484           eng        435        2339585   \n",
       "\n",
       "       text_reviews_count publication_date                  publisher  \\\n",
       "10340               94265       2006-09-06  Little  Brown and Company   \n",
       "5272                86881       2006-03-14            Alfred A. Knopf   \n",
       "1069                56604       2006-01-24                      Ember   \n",
       "284                 55843       1993-05-01              HarperCollins   \n",
       "10704               52759       2007-05-01            Algonquin Books   \n",
       "7312                47951       2006-03-01      Disney Hyperion Books   \n",
       "5409                47620       2007-02-01            Riverhead Books   \n",
       "2060                46176       2006-01-17                   Scribner   \n",
       "1462                43499       2001-01-30             Back Bay Books   \n",
       "10                  36325       2004-05-01            Scholastic Inc.   \n",
       "\n",
       "                             most_pop_book_per_publisher  \n",
       "10340                                                     \n",
       "5272                                                      \n",
       "1069                                                      \n",
       "284                                                       \n",
       "10704                                                     \n",
       "7312                                                      \n",
       "5409                                                      \n",
       "2060                                                      \n",
       "1462                                                      \n",
       "10     Harry Potter and the Half-Blood Prince (Harry ...  "
      ]
     },
     "execution_count": 261,
     "metadata": {},
     "output_type": "execute_result"
    }
   ],
   "source": [
    "df.sort_values(by='text_reviews_count', ascending=False)[:10]"
   ]
  },
  {
   "cell_type": "markdown",
   "metadata": {},
   "source": [
    "# ------------- PUBLISHER -----------------"
   ]
  },
  {
   "cell_type": "markdown",
   "metadata": {},
   "source": [
    "## Publisher : What are the top publishers in term of number of books published?"
   ]
  },
  {
   "cell_type": "code",
   "execution_count": 238,
   "metadata": {},
   "outputs": [
    {
     "data": {
      "text/plain": [
       "2291"
      ]
     },
     "execution_count": 238,
     "metadata": {},
     "output_type": "execute_result"
    }
   ],
   "source": [
    "len(df['publisher'].unique())"
   ]
  },
  {
   "cell_type": "code",
   "execution_count": 239,
   "metadata": {},
   "outputs": [
    {
     "data": {
      "text/html": [
       "<div>\n",
       "<style scoped>\n",
       "    .dataframe tbody tr th:only-of-type {\n",
       "        vertical-align: middle;\n",
       "    }\n",
       "\n",
       "    .dataframe tbody tr th {\n",
       "        vertical-align: top;\n",
       "    }\n",
       "\n",
       "    .dataframe thead th {\n",
       "        text-align: right;\n",
       "    }\n",
       "</style>\n",
       "<table border=\"1\" class=\"dataframe\">\n",
       "  <thead>\n",
       "    <tr style=\"text-align: right;\">\n",
       "      <th></th>\n",
       "      <th>bookID</th>\n",
       "    </tr>\n",
       "    <tr>\n",
       "      <th>publisher</th>\n",
       "      <th></th>\n",
       "    </tr>\n",
       "  </thead>\n",
       "  <tbody>\n",
       "    <tr>\n",
       "      <th>Vintage</th>\n",
       "      <td>318</td>\n",
       "    </tr>\n",
       "    <tr>\n",
       "      <th>Penguin Books</th>\n",
       "      <td>261</td>\n",
       "    </tr>\n",
       "    <tr>\n",
       "      <th>Penguin Classics</th>\n",
       "      <td>184</td>\n",
       "    </tr>\n",
       "  </tbody>\n",
       "</table>\n",
       "</div>"
      ],
      "text/plain": [
       "                  bookID\n",
       "publisher               \n",
       "Vintage              318\n",
       "Penguin Books        261\n",
       "Penguin Classics     184"
      ]
     },
     "execution_count": 239,
     "metadata": {},
     "output_type": "execute_result"
    }
   ],
   "source": [
    "book_publisher = df.pivot_table(index=['publisher'], values='bookID', aggfunc='count')\n",
    "book_publisher = book_publisher.sort_values(by=['bookID'],ascending=False)\n",
    "book_publisher.head(3)"
   ]
  },
  {
   "cell_type": "code",
   "execution_count": 240,
   "metadata": {},
   "outputs": [
    {
     "data": {
      "text/plain": [
       "bookID    11127\n",
       "dtype: int64"
      ]
     },
     "execution_count": 240,
     "metadata": {},
     "output_type": "execute_result"
    }
   ],
   "source": [
    "total_books = book_publisher.sum()\n",
    "total_books"
   ]
  },
  {
   "cell_type": "code",
   "execution_count": 241,
   "metadata": {},
   "outputs": [
    {
     "data": {
      "text/plain": [
       "Index(['Vintage', 'Penguin Books', 'Penguin Classics', 'Mariner Books',\n",
       "       'Ballantine Books', 'Harper Perennial', 'HarperCollins', 'Pocket Books',\n",
       "       'Bantam', 'VIZ Media LLC',\n",
       "       ...\n",
       "       'Nicholas Brealey', 'Do-Not Press', 'Newmarket',\n",
       "       'New York: Random House', 'Dodd Mead; 1st edition (September 1976)',\n",
       "       'Doherty  Tom Associates  LLC', 'New York Review Children's Collection',\n",
       "       'New York : Penguin Books', 'New World Publishing',\n",
       "       'Limitless Corporation'],\n",
       "      dtype='object', name='publisher', length=2291)"
      ]
     },
     "execution_count": 241,
     "metadata": {},
     "output_type": "execute_result"
    }
   ],
   "source": [
    "book_publisher.index"
   ]
  },
  {
   "cell_type": "code",
   "execution_count": 242,
   "metadata": {},
   "outputs": [
    {
     "data": {
      "text/html": [
       "<div>\n",
       "<style scoped>\n",
       "    .dataframe tbody tr th:only-of-type {\n",
       "        vertical-align: middle;\n",
       "    }\n",
       "\n",
       "    .dataframe tbody tr th {\n",
       "        vertical-align: top;\n",
       "    }\n",
       "\n",
       "    .dataframe thead th {\n",
       "        text-align: right;\n",
       "    }\n",
       "</style>\n",
       "<table border=\"1\" class=\"dataframe\">\n",
       "  <thead>\n",
       "    <tr style=\"text-align: right;\">\n",
       "      <th></th>\n",
       "      <th>bookID</th>\n",
       "    </tr>\n",
       "    <tr>\n",
       "      <th>publisher</th>\n",
       "      <th></th>\n",
       "    </tr>\n",
       "  </thead>\n",
       "  <tbody>\n",
       "    <tr>\n",
       "      <th>Vintage</th>\n",
       "      <td>318</td>\n",
       "    </tr>\n",
       "    <tr>\n",
       "      <th>Penguin Books</th>\n",
       "      <td>261</td>\n",
       "    </tr>\n",
       "    <tr>\n",
       "      <th>Penguin Classics</th>\n",
       "      <td>184</td>\n",
       "    </tr>\n",
       "    <tr>\n",
       "      <th>Mariner Books</th>\n",
       "      <td>150</td>\n",
       "    </tr>\n",
       "    <tr>\n",
       "      <th>Ballantine Books</th>\n",
       "      <td>144</td>\n",
       "    </tr>\n",
       "    <tr>\n",
       "      <th>Harper Perennial</th>\n",
       "      <td>112</td>\n",
       "    </tr>\n",
       "    <tr>\n",
       "      <th>HarperCollins</th>\n",
       "      <td>112</td>\n",
       "    </tr>\n",
       "    <tr>\n",
       "      <th>Pocket Books</th>\n",
       "      <td>111</td>\n",
       "    </tr>\n",
       "    <tr>\n",
       "      <th>Bantam</th>\n",
       "      <td>110</td>\n",
       "    </tr>\n",
       "    <tr>\n",
       "      <th>VIZ Media LLC</th>\n",
       "      <td>88</td>\n",
       "    </tr>\n",
       "  </tbody>\n",
       "</table>\n",
       "</div>"
      ],
      "text/plain": [
       "                  bookID\n",
       "publisher               \n",
       "Vintage              318\n",
       "Penguin Books        261\n",
       "Penguin Classics     184\n",
       "Mariner Books        150\n",
       "Ballantine Books     144\n",
       "Harper Perennial     112\n",
       "HarperCollins        112\n",
       "Pocket Books         111\n",
       "Bantam               110\n",
       "VIZ Media LLC         88"
      ]
     },
     "execution_count": 242,
     "metadata": {},
     "output_type": "execute_result"
    }
   ],
   "source": [
    "def top_publisher(df, num):\n",
    "    pivot = df.pivot_table(index=['publisher'], values='bookID', aggfunc='count')\n",
    "    pivot = pivot.sort_values(by=['bookID'],ascending=False)\n",
    "    top_publisher = pivot[:num]\n",
    "    return top_publisher\n",
    "top_ten_publisher = top_publisher(df, 10)\n",
    "top_ten_publisher"
   ]
  },
  {
   "cell_type": "code",
   "execution_count": 243,
   "metadata": {},
   "outputs": [
    {
     "data": {
      "text/plain": [
       "bookID    1590\n",
       "dtype: int64"
      ]
     },
     "execution_count": 243,
     "metadata": {},
     "output_type": "execute_result"
    }
   ],
   "source": [
    "top_ten_publisher.sum()"
   ]
  },
  {
   "cell_type": "markdown",
   "metadata": {},
   "source": [
    "## Publisher : What is publisher Houghton Mifflin Harcourt’s most popular book?\n",
    "First, I found all of the books with Houghton Mifflin Harcourt as the publisher. Then I filtered the books by the number of ratings (> 1000) and then sorted them by the average rating to find their most popular book."
   ]
  },
  {
   "cell_type": "code",
   "execution_count": 246,
   "metadata": {},
   "outputs": [
    {
     "data": {
      "text/plain": [
       "'The Lord of the Rings: The Art of the Fellowship of the Ring by Gary Russell'"
      ]
     },
     "execution_count": 246,
     "metadata": {},
     "output_type": "execute_result"
    }
   ],
   "source": [
    "def most_pop_per_publisher(df, publisher):\n",
    "    result = df[df['publisher']==publisher]\n",
    "    return most_pop(result, 4.5)\n",
    "title = most_pop_per_publisher(df, 'Houghton Mifflin Harcourt' )['title'].values[0]\n",
    "author = most_pop_per_publisher(df, 'Houghton Mifflin Harcourt' )['authors'].values[0]\n",
    "f\"{title} by {author}\""
   ]
  },
  {
   "cell_type": "markdown",
   "metadata": {},
   "source": [
    "## c. Publisher : What is publishers' most popular book?"
   ]
  },
  {
   "cell_type": "code",
   "execution_count": 247,
   "metadata": {},
   "outputs": [
    {
     "data": {
      "text/plain": [
       "Index(['Vintage', 'Penguin Books', 'Penguin Classics', 'Mariner Books',\n",
       "       'Ballantine Books', 'Harper Perennial', 'HarperCollins', 'Pocket Books',\n",
       "       'Bantam', 'VIZ Media LLC',\n",
       "       ...\n",
       "       'Nicholas Brealey', 'Do-Not Press', 'Newmarket',\n",
       "       'New York: Random House', 'Dodd Mead; 1st edition (September 1976)',\n",
       "       'Doherty  Tom Associates  LLC', 'New York Review Children's Collection',\n",
       "       'New York : Penguin Books', 'New World Publishing',\n",
       "       'Limitless Corporation'],\n",
       "      dtype='object', name='publisher', length=2291)"
      ]
     },
     "execution_count": 247,
     "metadata": {},
     "output_type": "execute_result"
    }
   ],
   "source": [
    "book_publisher.index"
   ]
  },
  {
   "cell_type": "code",
   "execution_count": 248,
   "metadata": {},
   "outputs": [
    {
     "data": {
      "text/html": [
       "<div>\n",
       "<style scoped>\n",
       "    .dataframe tbody tr th:only-of-type {\n",
       "        vertical-align: middle;\n",
       "    }\n",
       "\n",
       "    .dataframe tbody tr th {\n",
       "        vertical-align: top;\n",
       "    }\n",
       "\n",
       "    .dataframe thead th {\n",
       "        text-align: right;\n",
       "    }\n",
       "</style>\n",
       "<table border=\"1\" class=\"dataframe\">\n",
       "  <thead>\n",
       "    <tr style=\"text-align: right;\">\n",
       "      <th></th>\n",
       "      <th>bookID</th>\n",
       "      <th>title</th>\n",
       "      <th>authors</th>\n",
       "      <th>average_rating</th>\n",
       "      <th>isbn</th>\n",
       "      <th>isbn13</th>\n",
       "      <th>language_code</th>\n",
       "      <th>num_pages</th>\n",
       "      <th>ratings_count</th>\n",
       "      <th>text_reviews_count</th>\n",
       "      <th>publication_date</th>\n",
       "      <th>publisher</th>\n",
       "      <th>most_pop_book_per_publisher</th>\n",
       "    </tr>\n",
       "  </thead>\n",
       "  <tbody>\n",
       "    <tr>\n",
       "      <th>0</th>\n",
       "      <td>1</td>\n",
       "      <td>The Ultimate Hitchhiker's Guide: Five Complete...</td>\n",
       "      <td>Douglas Adams</td>\n",
       "      <td>4.38</td>\n",
       "      <td>517226952</td>\n",
       "      <td>9780517226957</td>\n",
       "      <td>eng</td>\n",
       "      <td>815</td>\n",
       "      <td>3628</td>\n",
       "      <td>254</td>\n",
       "      <td>2005-11-01</td>\n",
       "      <td>Gramercy Books</td>\n",
       "      <td></td>\n",
       "    </tr>\n",
       "    <tr>\n",
       "      <th>1</th>\n",
       "      <td>2</td>\n",
       "      <td>The Ultimate Hitchhiker's Guide to the Galaxy ...</td>\n",
       "      <td>Douglas Adams</td>\n",
       "      <td>4.38</td>\n",
       "      <td>345453743</td>\n",
       "      <td>9780345453747</td>\n",
       "      <td>eng</td>\n",
       "      <td>815</td>\n",
       "      <td>249558</td>\n",
       "      <td>4080</td>\n",
       "      <td>2002-04-30</td>\n",
       "      <td>Del Rey Books</td>\n",
       "      <td></td>\n",
       "    </tr>\n",
       "    <tr>\n",
       "      <th>2</th>\n",
       "      <td>4</td>\n",
       "      <td>The Hitchhiker's Guide to the Galaxy (Hitchhik...</td>\n",
       "      <td>Douglas Adams</td>\n",
       "      <td>4.22</td>\n",
       "      <td>1400052920</td>\n",
       "      <td>9781400052929</td>\n",
       "      <td>eng</td>\n",
       "      <td>215</td>\n",
       "      <td>4930</td>\n",
       "      <td>460</td>\n",
       "      <td>2004-08-03</td>\n",
       "      <td>Crown</td>\n",
       "      <td></td>\n",
       "    </tr>\n",
       "    <tr>\n",
       "      <th>3</th>\n",
       "      <td>5</td>\n",
       "      <td>The Hitchhiker's Guide to the Galaxy (Hitchhik...</td>\n",
       "      <td>Douglas Adams/Stephen Fry</td>\n",
       "      <td>4.22</td>\n",
       "      <td>739322206</td>\n",
       "      <td>9780739322208</td>\n",
       "      <td>eng</td>\n",
       "      <td>6</td>\n",
       "      <td>1266</td>\n",
       "      <td>253</td>\n",
       "      <td>2005-03-23</td>\n",
       "      <td>Random House Audio</td>\n",
       "      <td></td>\n",
       "    </tr>\n",
       "    <tr>\n",
       "      <th>4</th>\n",
       "      <td>8</td>\n",
       "      <td>The Ultimate Hitchhiker's Guide (Hitchhiker's ...</td>\n",
       "      <td>Douglas Adams</td>\n",
       "      <td>4.38</td>\n",
       "      <td>517149257</td>\n",
       "      <td>9780517149256</td>\n",
       "      <td>eng</td>\n",
       "      <td>815</td>\n",
       "      <td>2877</td>\n",
       "      <td>195</td>\n",
       "      <td>1996-01-17</td>\n",
       "      <td>Wings Books</td>\n",
       "      <td></td>\n",
       "    </tr>\n",
       "  </tbody>\n",
       "</table>\n",
       "</div>"
      ],
      "text/plain": [
       "   bookID                                              title  \\\n",
       "0       1  The Ultimate Hitchhiker's Guide: Five Complete...   \n",
       "1       2  The Ultimate Hitchhiker's Guide to the Galaxy ...   \n",
       "2       4  The Hitchhiker's Guide to the Galaxy (Hitchhik...   \n",
       "3       5  The Hitchhiker's Guide to the Galaxy (Hitchhik...   \n",
       "4       8  The Ultimate Hitchhiker's Guide (Hitchhiker's ...   \n",
       "\n",
       "                     authors  average_rating        isbn         isbn13  \\\n",
       "0              Douglas Adams            4.38   517226952  9780517226957   \n",
       "1              Douglas Adams            4.38   345453743  9780345453747   \n",
       "2              Douglas Adams            4.22  1400052920  9781400052929   \n",
       "3  Douglas Adams/Stephen Fry            4.22   739322206  9780739322208   \n",
       "4              Douglas Adams            4.38   517149257  9780517149256   \n",
       "\n",
       "  language_code  num_pages  ratings_count  text_reviews_count  \\\n",
       "0           eng        815           3628                 254   \n",
       "1           eng        815         249558                4080   \n",
       "2           eng        215           4930                 460   \n",
       "3           eng          6           1266                 253   \n",
       "4           eng        815           2877                 195   \n",
       "\n",
       "  publication_date           publisher most_pop_book_per_publisher  \n",
       "0       2005-11-01      Gramercy Books                              \n",
       "1       2002-04-30       Del Rey Books                              \n",
       "2       2004-08-03               Crown                              \n",
       "3       2005-03-23  Random House Audio                              \n",
       "4       1996-01-17         Wings Books                              "
      ]
     },
     "execution_count": 248,
     "metadata": {},
     "output_type": "execute_result"
    }
   ],
   "source": [
    "for publisher in book_publisher.index:\n",
    "    #print(publisher)\n",
    "    #print(most_pop_per_publisher(df, publisher))\n",
    "    if most_pop_per_publisher(df, publisher )['title'].values.size == 0:\n",
    "        df.loc[df['publisher']==publisher, 'most_pop_book_per_publisher']= ''\n",
    "    else:\n",
    "        df.loc[df['publisher']==publisher, 'most_pop_book_per_publisher'] = most_pop_per_publisher(df, publisher )['title'].values[0]\n",
    "df.head()"
   ]
  },
  {
   "cell_type": "code",
   "execution_count": 124,
   "metadata": {},
   "outputs": [
    {
     "data": {
      "text/html": [
       "<div>\n",
       "<style scoped>\n",
       "    .dataframe tbody tr th:only-of-type {\n",
       "        vertical-align: middle;\n",
       "    }\n",
       "\n",
       "    .dataframe tbody tr th {\n",
       "        vertical-align: top;\n",
       "    }\n",
       "\n",
       "    .dataframe thead th {\n",
       "        text-align: right;\n",
       "    }\n",
       "</style>\n",
       "<table border=\"1\" class=\"dataframe\">\n",
       "  <thead>\n",
       "    <tr style=\"text-align: right;\">\n",
       "      <th></th>\n",
       "      <th>best book</th>\n",
       "      <th>authors</th>\n",
       "    </tr>\n",
       "    <tr>\n",
       "      <th>publisher</th>\n",
       "      <th></th>\n",
       "      <th></th>\n",
       "    </tr>\n",
       "  </thead>\n",
       "  <tbody>\n",
       "    <tr>\n",
       "      <th>Vintage</th>\n",
       "      <td>The Power Broker: Robert Moses and the Fall of...</td>\n",
       "      <td>Robert A. Caro</td>\n",
       "    </tr>\n",
       "    <tr>\n",
       "      <th>Penguin Books</th>\n",
       "      <td>The Complete Maus</td>\n",
       "      <td>Art Spiegelman</td>\n",
       "    </tr>\n",
       "    <tr>\n",
       "      <th>Penguin Classics</th>\n",
       "      <td>In the Shadow of Young Girls in Flower (In Sea...</td>\n",
       "      <td>Marcel Proust/James Grieve/Christopher Prender...</td>\n",
       "    </tr>\n",
       "    <tr>\n",
       "      <th>Mariner Books</th>\n",
       "      <td>The Return of the King (The Lord of the Rings ...</td>\n",
       "      <td>J.R.R. Tolkien</td>\n",
       "    </tr>\n",
       "    <tr>\n",
       "      <th>Ballantine Books</th>\n",
       "      <td>J.R.R. Tolkien 4-Book Boxed Set: The Hobbit an...</td>\n",
       "      <td>J.R.R. Tolkien</td>\n",
       "    </tr>\n",
       "    <tr>\n",
       "      <th>Harper Perennial</th>\n",
       "      <td>Full Woman  Fleshly Apple  Hot Moon: Selected ...</td>\n",
       "      <td>Pablo Neruda/Stephen Mitchell</td>\n",
       "    </tr>\n",
       "    <tr>\n",
       "      <th>HarperCollins</th>\n",
       "      <td>The Missing Piece Meets the Big O</td>\n",
       "      <td>Shel Silverstein</td>\n",
       "    </tr>\n",
       "    <tr>\n",
       "      <th>Pocket Books</th>\n",
       "      <td>Boy's Life</td>\n",
       "      <td>Robert R. McCammon</td>\n",
       "    </tr>\n",
       "    <tr>\n",
       "      <th>Bantam</th>\n",
       "      <td>Gates of Fire</td>\n",
       "      <td>Steven Pressfield</td>\n",
       "    </tr>\n",
       "    <tr>\n",
       "      <th>VIZ Media LLC</th>\n",
       "      <td>Fullmetal Alchemist  Vol. 10</td>\n",
       "      <td>Hiromu Arakawa/Akira Watanabe</td>\n",
       "    </tr>\n",
       "    <tr>\n",
       "      <th>Berkley</th>\n",
       "      <td>Winter Prey (Lucas Davenport  #5)</td>\n",
       "      <td>John Sandford</td>\n",
       "    </tr>\n",
       "    <tr>\n",
       "      <th>Dover Publications</th>\n",
       "      <td>The Burgess Bird Book for Children</td>\n",
       "      <td>Thornton W. Burgess/Louis Agassiz Fuertes</td>\n",
       "    </tr>\n",
       "    <tr>\n",
       "      <th>Modern Library</th>\n",
       "      <td>Within a Budding Grove (In Search of Lost Time...</td>\n",
       "      <td>Marcel Proust/C.K. Scott Moncrieff/Terence Kil...</td>\n",
       "    </tr>\n",
       "    <tr>\n",
       "      <th>Del Rey</th>\n",
       "      <td>The Making of Star Wars (Star Wars:  The Makin...</td>\n",
       "      <td>J.W. Rinzler/Peter  Jackson</td>\n",
       "    </tr>\n",
       "    <tr>\n",
       "      <th>Grand Central Publishing</th>\n",
       "      <td>The Autobiography of Martin Luther King  Jr.</td>\n",
       "      <td>Martin Luther King Jr./Clayborne Carson</td>\n",
       "    </tr>\n",
       "    <tr>\n",
       "      <th>Tor Books</th>\n",
       "      <td>Ender's Game Boxed Set: Ender's Game  Ender's ...</td>\n",
       "      <td>Orson Scott Card</td>\n",
       "    </tr>\n",
       "    <tr>\n",
       "      <th>Oxford University Press  USA</th>\n",
       "      <td>Battle Cry of Freedom</td>\n",
       "      <td>James M. McPherson</td>\n",
       "    </tr>\n",
       "    <tr>\n",
       "      <th>Scribner</th>\n",
       "      <td>A Primate's Memoir: A Neuroscientist's Unconve...</td>\n",
       "      <td>Robert M. Sapolsky</td>\n",
       "    </tr>\n",
       "    <tr>\n",
       "      <th>Oxford University Press</th>\n",
       "      <td>The Complete Sonnets and Poems</td>\n",
       "      <td>William Shakespeare/Colin Burrow</td>\n",
       "    </tr>\n",
       "    <tr>\n",
       "      <th>W. W. Norton  Company</th>\n",
       "      <td>The Complete Aubrey/Maturin Novels (5 Volumes)</td>\n",
       "      <td>Patrick O'Brian</td>\n",
       "    </tr>\n",
       "  </tbody>\n",
       "</table>\n",
       "</div>"
      ],
      "text/plain": [
       "                                                                      best book  \\\n",
       "publisher                                                                         \n",
       "Vintage                       The Power Broker: Robert Moses and the Fall of...   \n",
       "Penguin Books                                                 The Complete Maus   \n",
       "Penguin Classics              In the Shadow of Young Girls in Flower (In Sea...   \n",
       "Mariner Books                 The Return of the King (The Lord of the Rings ...   \n",
       "Ballantine Books              J.R.R. Tolkien 4-Book Boxed Set: The Hobbit an...   \n",
       "Harper Perennial              Full Woman  Fleshly Apple  Hot Moon: Selected ...   \n",
       "HarperCollins                                 The Missing Piece Meets the Big O   \n",
       "Pocket Books                                                         Boy's Life   \n",
       "Bantam                                                            Gates of Fire   \n",
       "VIZ Media LLC                                      Fullmetal Alchemist  Vol. 10   \n",
       "Berkley                                       Winter Prey (Lucas Davenport  #5)   \n",
       "Dover Publications                           The Burgess Bird Book for Children   \n",
       "Modern Library                Within a Budding Grove (In Search of Lost Time...   \n",
       "Del Rey                       The Making of Star Wars (Star Wars:  The Makin...   \n",
       "Grand Central Publishing           The Autobiography of Martin Luther King  Jr.   \n",
       "Tor Books                     Ender's Game Boxed Set: Ender's Game  Ender's ...   \n",
       "Oxford University Press  USA                              Battle Cry of Freedom   \n",
       "Scribner                      A Primate's Memoir: A Neuroscientist's Unconve...   \n",
       "Oxford University Press                          The Complete Sonnets and Poems   \n",
       "W. W. Norton  Company            The Complete Aubrey/Maturin Novels (5 Volumes)   \n",
       "\n",
       "                                                                        authors  \n",
       "publisher                                                                        \n",
       "Vintage                                                          Robert A. Caro  \n",
       "Penguin Books                                                    Art Spiegelman  \n",
       "Penguin Classics              Marcel Proust/James Grieve/Christopher Prender...  \n",
       "Mariner Books                                                    J.R.R. Tolkien  \n",
       "Ballantine Books                                                 J.R.R. Tolkien  \n",
       "Harper Perennial                                  Pablo Neruda/Stephen Mitchell  \n",
       "HarperCollins                                                  Shel Silverstein  \n",
       "Pocket Books                                                 Robert R. McCammon  \n",
       "Bantam                                                        Steven Pressfield  \n",
       "VIZ Media LLC                                     Hiromu Arakawa/Akira Watanabe  \n",
       "Berkley                                                           John Sandford  \n",
       "Dover Publications                    Thornton W. Burgess/Louis Agassiz Fuertes  \n",
       "Modern Library                Marcel Proust/C.K. Scott Moncrieff/Terence Kil...  \n",
       "Del Rey                                             J.W. Rinzler/Peter  Jackson  \n",
       "Grand Central Publishing                Martin Luther King Jr./Clayborne Carson  \n",
       "Tor Books                                                      Orson Scott Card  \n",
       "Oxford University Press  USA                                 James M. McPherson  \n",
       "Scribner                                                     Robert M. Sapolsky  \n",
       "Oxford University Press                        William Shakespeare/Colin Burrow  \n",
       "W. W. Norton  Company                                           Patrick O'Brian  "
      ]
     },
     "execution_count": 124,
     "metadata": {},
     "output_type": "execute_result"
    }
   ],
   "source": [
    "def top_publisher_book_author(number):\n",
    "    top_publishers = top_publisher(df, number).index\n",
    "    top_book_publisher = pd.DataFrame(np.zeros((number, 2)), index=top_publishers, columns=['best book', 'authors'])\n",
    "    top_book_publisher['best book'] = np.arange(number)\n",
    "    best_books=[]\n",
    "    authors=[]\n",
    "\n",
    "    for publisher in top_publishers:\n",
    "        title = most_pop_per_publisher(df, publisher )['title'].values[0]\n",
    "        author = most_pop_per_publisher(df, publisher )['authors'].values[0]\n",
    "        best_books.append(title)\n",
    "        authors.append(author)\n",
    "\n",
    "    top_book_publisher['authors'] = authors\n",
    "    top_book_publisher['best book'] = best_books\n",
    "    return top_book_publisher\n",
    "\n",
    "number = 20\n",
    "top_publisher_book_author(number)"
   ]
  },
  {
   "cell_type": "markdown",
   "metadata": {},
   "source": [
    "## ----------- IDEAS FOR A BOOK APP -------------"
   ]
  },
  {
   "attachments": {
    "image.png": {
     "image/png": "[encoded data removed]"
    }
   },
   "cell_type": "markdown",
   "metadata": {},
   "source": [
    "![image.png](attachment:image.png)"
   ]
  },
  {
   "cell_type": "code",
   "execution_count": null,
   "metadata": {},
   "outputs": [],
   "source": []
  }
 ],
 "metadata": {
  "kernelspec": {
   "display_name": "Python 3",
   "language": "python",
   "name": "python3"
  },
  "language_info": {
   "codemirror_mode": {
    "name": "ipython",
    "version": 3
   },
   "file_extension": ".py",
   "mimetype": "text/x-python",
   "name": "python",
   "nbconvert_exporter": "python",
   "pygments_lexer": "ipython3",
   "version": "3.9.5"
  }
 },
 "nbformat": 4,
 "nbformat_minor": 4
}
